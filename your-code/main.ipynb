{
 "cells": [
  {
   "cell_type": "markdown",
   "metadata": {},
   "source": [
    "# Web Scraping Lab\n",
    "\n",
    "You will find in this notebook some scrapy exercises to practise your scraping skills.\n",
    "\n",
    "**Tips:**\n",
    "\n",
    "- Check the response status code for each request to ensure you have obtained the intended contennt.\n",
    "- Print the response text in each request to understand the kind of info you are getting and its format.\n",
    "- Check for patterns in the response text to extract the data/info requested in each question.\n",
    "- Visit each url and take a look at its source through Chrome DevTools. You'll need to identify the html tags, special class names etc. used for the html content you are expected to extract."
   ]
  },
  {
   "cell_type": "markdown",
   "metadata": {},
   "source": [
    "- [Requests library](http://docs.python-requests.org/en/master/#the-user-guide) documentation \n",
    "- [Beautiful Soup Doc](https://www.crummy.com/software/BeautifulSoup/bs4/doc/)\n",
    "- [Urllib](https://docs.python.org/3/library/urllib.html#module-urllib)\n",
    "- [re lib](https://docs.python.org/3/library/re.html)\n",
    "- [lxml lib](https://lxml.de/)\n",
    "- [Scrapy](https://scrapy.org/)\n",
    "- [List of HTTP status codes](https://en.wikipedia.org/wiki/List_of_HTTP_status_codes)\n",
    "- [HTML basics](http://www.simplehtmlguide.com/cheatsheet.php)\n",
    "- [CSS basics](https://www.cssbasics.com/#page_start)"
   ]
  },
  {
   "cell_type": "markdown",
   "metadata": {},
   "source": [
    "#### Below are the libraries and modules you may need. `requests`,  `BeautifulSoup` and `pandas` are imported for you. If you prefer to use additional libraries feel free to uncomment them."
   ]
  },
  {
   "cell_type": "code",
   "execution_count": 1,
   "metadata": {},
   "outputs": [
    {
     "name": "stdout",
     "output_type": "stream",
     "text": [
      "Requirement already satisfied: lxml in /usr/local/Cellar/jupyterlab/3.1.10/libexec/lib/python3.9/site-packages (4.6.4)\n",
      "\u001b[33mWARNING: You are using pip version 21.2.4; however, version 21.3.1 is available.\n",
      "You should consider upgrading via the '/usr/local/Cellar/jupyterlab/3.1.10/libexec/bin/python3.9 -m pip install --upgrade pip' command.\u001b[0m\n",
      "Requirement already satisfied: scrapy in /usr/local/Cellar/jupyterlab/3.1.10/libexec/lib/python3.9/site-packages (2.5.1)\n",
      "Requirement already satisfied: cssselect>=0.9.1 in /usr/local/Cellar/jupyterlab/3.1.10/libexec/lib/python3.9/site-packages (from scrapy) (1.1.0)\n",
      "Requirement already satisfied: protego>=0.1.15 in /usr/local/Cellar/jupyterlab/3.1.10/libexec/lib/python3.9/site-packages (from scrapy) (0.1.16)\n",
      "Requirement already satisfied: service-identity>=16.0.0 in /usr/local/Cellar/jupyterlab/3.1.10/libexec/lib/python3.9/site-packages (from scrapy) (21.1.0)\n",
      "Requirement already satisfied: parsel>=1.5.0 in /usr/local/Cellar/jupyterlab/3.1.10/libexec/lib/python3.9/site-packages (from scrapy) (1.6.0)\n",
      "Requirement already satisfied: itemloaders>=1.0.1 in /usr/local/Cellar/jupyterlab/3.1.10/libexec/lib/python3.9/site-packages (from scrapy) (1.0.4)\n",
      "Requirement already satisfied: Twisted[http2]>=17.9.0 in /usr/local/Cellar/jupyterlab/3.1.10/libexec/lib/python3.9/site-packages (from scrapy) (21.7.0)\n",
      "Requirement already satisfied: zope.interface>=4.1.3 in /usr/local/Cellar/jupyterlab/3.1.10/libexec/lib/python3.9/site-packages (from scrapy) (5.4.0)\n",
      "Requirement already satisfied: PyDispatcher>=2.0.5 in /usr/local/Cellar/jupyterlab/3.1.10/libexec/lib/python3.9/site-packages (from scrapy) (2.0.5)\n",
      "Requirement already satisfied: w3lib>=1.17.0 in /usr/local/Cellar/jupyterlab/3.1.10/libexec/lib/python3.9/site-packages (from scrapy) (1.22.0)\n",
      "Requirement already satisfied: lxml>=3.5.0 in /usr/local/Cellar/jupyterlab/3.1.10/libexec/lib/python3.9/site-packages (from scrapy) (4.6.4)\n",
      "Requirement already satisfied: itemadapter>=0.1.0 in /usr/local/Cellar/jupyterlab/3.1.10/libexec/lib/python3.9/site-packages (from scrapy) (0.4.0)\n",
      "Requirement already satisfied: pyOpenSSL>=16.2.0 in /usr/local/Cellar/jupyterlab/3.1.10/libexec/lib/python3.9/site-packages (from scrapy) (21.0.0)\n",
      "Requirement already satisfied: queuelib>=1.4.2 in /usr/local/Cellar/jupyterlab/3.1.10/libexec/lib/python3.9/site-packages (from scrapy) (1.6.2)\n",
      "Requirement already satisfied: cryptography>=2.0 in /usr/local/Cellar/jupyterlab/3.1.10/libexec/lib/python3.9/site-packages (from scrapy) (35.0.0)\n",
      "Requirement already satisfied: h2<4.0,>=3.0 in /usr/local/Cellar/jupyterlab/3.1.10/libexec/lib/python3.9/site-packages (from scrapy) (3.2.0)\n",
      "Requirement already satisfied: cffi>=1.12 in /usr/local/Cellar/jupyterlab/3.1.10/libexec/lib/python3.9/site-packages (from cryptography>=2.0->scrapy) (1.14.6)\n",
      "Requirement already satisfied: pycparser in /usr/local/Cellar/jupyterlab/3.1.10/libexec/lib/python3.9/site-packages (from cffi>=1.12->cryptography>=2.0->scrapy) (2.20)\n",
      "Requirement already satisfied: hyperframe<6,>=5.2.0 in /usr/local/Cellar/jupyterlab/3.1.10/libexec/lib/python3.9/site-packages (from h2<4.0,>=3.0->scrapy) (5.2.0)\n",
      "Requirement already satisfied: hpack<4,>=3.0 in /usr/local/Cellar/jupyterlab/3.1.10/libexec/lib/python3.9/site-packages (from h2<4.0,>=3.0->scrapy) (3.0.0)\n",
      "Requirement already satisfied: jmespath>=0.9.5 in /usr/local/Cellar/jupyterlab/3.1.10/libexec/lib/python3.9/site-packages (from itemloaders>=1.0.1->scrapy) (0.10.0)\n",
      "Requirement already satisfied: six>=1.6.0 in /usr/local/Cellar/jupyterlab/3.1.10/libexec/lib/python3.9/site-packages (from parsel>=1.5.0->scrapy) (1.16.0)\n",
      "Requirement already satisfied: pyasn1 in /usr/local/Cellar/jupyterlab/3.1.10/libexec/lib/python3.9/site-packages (from service-identity>=16.0.0->scrapy) (0.4.8)\n",
      "Requirement already satisfied: pyasn1-modules in /usr/local/Cellar/jupyterlab/3.1.10/libexec/lib/python3.9/site-packages (from service-identity>=16.0.0->scrapy) (0.2.8)\n",
      "Requirement already satisfied: attrs>=19.1.0 in /usr/local/Cellar/jupyterlab/3.1.10/libexec/lib/python3.9/site-packages (from service-identity>=16.0.0->scrapy) (21.2.0)\n",
      "Requirement already satisfied: typing-extensions>=3.6.5 in /usr/local/Cellar/jupyterlab/3.1.10/libexec/lib/python3.9/site-packages (from Twisted[http2]>=17.9.0->scrapy) (3.10.0.2)\n",
      "Requirement already satisfied: Automat>=0.8.0 in /usr/local/Cellar/jupyterlab/3.1.10/libexec/lib/python3.9/site-packages (from Twisted[http2]>=17.9.0->scrapy) (20.2.0)\n",
      "Requirement already satisfied: hyperlink>=17.1.1 in /usr/local/Cellar/jupyterlab/3.1.10/libexec/lib/python3.9/site-packages (from Twisted[http2]>=17.9.0->scrapy) (21.0.0)\n",
      "Requirement already satisfied: incremental>=21.3.0 in /usr/local/Cellar/jupyterlab/3.1.10/libexec/lib/python3.9/site-packages (from Twisted[http2]>=17.9.0->scrapy) (21.3.0)\n",
      "Requirement already satisfied: constantly>=15.1 in /usr/local/Cellar/jupyterlab/3.1.10/libexec/lib/python3.9/site-packages (from Twisted[http2]>=17.9.0->scrapy) (15.1.0)\n",
      "Requirement already satisfied: priority<2.0,>=1.1.0 in /usr/local/Cellar/jupyterlab/3.1.10/libexec/lib/python3.9/site-packages (from Twisted[http2]>=17.9.0->scrapy) (1.3.0)\n",
      "Requirement already satisfied: idna>=2.5 in /usr/local/Cellar/jupyterlab/3.1.10/libexec/lib/python3.9/site-packages (from hyperlink>=17.1.1->Twisted[http2]>=17.9.0->scrapy) (3.2)\n",
      "Requirement already satisfied: setuptools in /usr/local/Cellar/jupyterlab/3.1.10/libexec/lib/python3.9/site-packages (from zope.interface>=4.1.3->scrapy) (57.4.0)\n",
      "\u001b[33mWARNING: You are using pip version 21.2.4; however, version 21.3.1 is available.\n",
      "You should consider upgrading via the '/usr/local/Cellar/jupyterlab/3.1.10/libexec/bin/python3.9 -m pip install --upgrade pip' command.\u001b[0m\n"
     ]
    }
   ],
   "source": [
    "import requests\n",
    "from bs4 import BeautifulSoup\n",
    "import pandas as pd\n",
    "# from pprint import pprint\n",
    "import sys\n",
    "!{sys.executable} -m pip install lxml\n",
    "from lxml import html\n",
    "from lxml.html import fromstring\n",
    "import urllib.request\n",
    "from urllib.request import urlopen\n",
    "import random\n",
    "import re\n",
    "!{sys.executable} -m pip install scrapy\n",
    "import scrapy"
   ]
  },
  {
   "cell_type": "markdown",
   "metadata": {},
   "source": [
    "#### Download, parse (using BeautifulSoup), and print the content from the Trending Developers page from GitHub:"
   ]
  },
  {
   "cell_type": "code",
   "execution_count": 2,
   "metadata": {},
   "outputs": [],
   "source": [
    "# This is the url you will scrape in this exercise\n",
    "url = 'https://github.com/trending/developers'"
   ]
  },
  {
   "cell_type": "code",
   "execution_count": 3,
   "metadata": {},
   "outputs": [],
   "source": [
    "#your code\n",
    "resp = requests.get(url)"
   ]
  },
  {
   "cell_type": "code",
   "execution_count": 48,
   "metadata": {},
   "outputs": [],
   "source": [
    "bs = BeautifulSoup(resp.content,'html.parser')"
   ]
  },
  {
   "cell_type": "markdown",
   "metadata": {},
   "source": [
    "#### Display the names of the trending developers retrieved in the previous step.\n",
    "\n",
    "Your output should be a Python list of developer names. Each name should not contain any html tag.\n",
    "\n",
    "**Instructions:**\n",
    "\n",
    "1. Find out the html tag and class names used for the developer names. You can achieve this using Chrome DevTools.\n",
    "\n",
    "1. Use BeautifulSoup to extract all the html elements that contain the developer names.\n",
    "\n",
    "1. Use string manipulation techniques to replace whitespaces and linebreaks (i.e. `\\n`) in the *text* of each html element. Use a list to store the clean names.\n",
    "\n",
    "1. Print the list of names.\n",
    "\n",
    "Your output should look like below:\n",
    "\n",
    "```\n",
    "['trimstray (@trimstray)',\n",
    " 'joewalnes (JoeWalnes)',\n",
    " 'charlax (Charles-AxelDein)',\n",
    " 'ForrestKnight (ForrestKnight)',\n",
    " 'revery-ui (revery-ui)',\n",
    " 'alibaba (Alibaba)',\n",
    " 'Microsoft (Microsoft)',\n",
    " 'github (GitHub)',\n",
    " 'facebook (Facebook)',\n",
    " 'boazsegev (Bo)',\n",
    " 'google (Google)',\n",
    " 'cloudfetch',\n",
    " 'sindresorhus (SindreSorhus)',\n",
    " 'tensorflow',\n",
    " 'apache (TheApacheSoftwareFoundation)',\n",
    " 'DevonCrawford (DevonCrawford)',\n",
    " 'ARMmbed (ArmMbed)',\n",
    " 'vuejs (vuejs)',\n",
    " 'fastai (fast.ai)',\n",
    " 'QiShaoXuan (Qi)',\n",
    " 'joelparkerhenderson (JoelParkerHenderson)',\n",
    " 'torvalds (LinusTorvalds)',\n",
    " 'CyC2018',\n",
    " 'komeiji-satori (神楽坂覚々)',\n",
    " 'script-8']\n",
    " ```"
   ]
  },
  {
   "cell_type": "code",
   "execution_count": 74,
   "metadata": {},
   "outputs": [
    {
     "data": {
      "text/plain": [
       "[<div class=\"col-md-6\">\n",
       " <h1 class=\"h3 lh-condensed\">\n",
       " <a data-hydro-click='{\"event_type\":\"explore.click\",\"payload\":{\"click_context\":\"TRENDING_DEVELOPERS_PAGE\",\"click_target\":\"OWNER\",\"click_visual_representation\":\"TRENDING_DEVELOPER\",\"actor_id\":null,\"record_id\":408570,\"originating_url\":\"https://github.com/trending/developers\",\"user_id\":null}}' data-hydro-click-hmac=\"fcb0f62eaf71e80c4ad2913bcc986edef45ae82b731292a72291637816560982\" data-view-component=\"true\" href=\"/sethvargo\">\n",
       "             Seth Vargo\n",
       " </a> </h1>\n",
       " <p class=\"f4 text-normal mb-1\">\n",
       " <a class=\"Link--secondary\" data-hydro-click='{\"event_type\":\"explore.click\",\"payload\":{\"click_context\":\"TRENDING_DEVELOPERS_PAGE\",\"click_target\":\"OWNER\",\"click_visual_representation\":\"TRENDING_DEVELOPER\",\"actor_id\":null,\"record_id\":408570,\"originating_url\":\"https://github.com/trending/developers\",\"user_id\":null}}' data-hydro-click-hmac=\"fcb0f62eaf71e80c4ad2913bcc986edef45ae82b731292a72291637816560982\" data-view-component=\"true\" href=\"/sethvargo\">\n",
       "               sethvargo\n",
       " </a> </p>\n",
       " </div>,\n",
       " <div class=\"col-md-6\">\n",
       " <div class=\"mt-2 mb-3 my-md-0\">\n",
       " <article>\n",
       " <div class=\"f6 color-fg-muted text-uppercase mb-1\"><svg aria-hidden=\"true\" class=\"octicon octicon-flame color-text-orange-light mr-1\" data-view-component=\"true\" height=\"16\" version=\"1.1\" viewbox=\"0 0 16 16\" width=\"16\">\n",
       " <path d=\"M7.998 14.5c2.832 0 5-1.98 5-4.5 0-1.463-.68-2.19-1.879-3.383l-.036-.037c-1.013-1.008-2.3-2.29-2.834-4.434-.322.256-.63.579-.864.953-.432.696-.621 1.58-.046 2.73.473.947.67 2.284-.278 3.232-.61.61-1.545.84-2.403.633a2.788 2.788 0 01-1.436-.874A3.21 3.21 0 003 10c0 2.53 2.164 4.5 4.998 4.5zM9.533.753C9.496.34 9.16.009 8.77.146 7.035.75 4.34 3.187 5.997 6.5c.344.689.285 1.218.003 1.5-.419.419-1.54.487-2.04-.832-.173-.454-.659-.762-1.035-.454C2.036 7.44 1.5 8.702 1.5 10c0 3.512 2.998 6 6.498 6s6.5-2.5 6.5-6c0-2.137-1.128-3.26-2.312-4.438-1.19-1.184-2.436-2.425-2.653-4.81z\" fill-rule=\"evenodd\"></path>\n",
       " </svg>Popular repo</div>\n",
       " <h1 class=\"h4 lh-condensed\">\n",
       " <a class=\"css-truncate css-truncate-target\" data-ga-click=\"Explore, go to repository, location:trending developers\" data-hydro-click='{\"event_type\":\"explore.click\",\"payload\":{\"click_context\":\"TRENDING_DEVELOPERS_PAGE\",\"click_target\":\"REPOSITORY\",\"click_visual_representation\":\"REPOSITORY_NAME_HEADING\",\"actor_id\":null,\"record_id\":278512944,\"originating_url\":\"https://github.com/trending/developers\",\"user_id\":null}}' data-hydro-click-hmac=\"da2539312345c888d586104d4273cf61d596a6d7ef142c6edc0169b0819da153\" data-view-component=\"true\" href=\"/sethvargo/go-limiter\" style=\"max-width: 175px;\">\n",
       " <svg aria-hidden=\"true\" class=\"octicon octicon-repo color-icon-secondary mr-1\" data-view-component=\"true\" height=\"16\" version=\"1.1\" viewbox=\"0 0 16 16\" width=\"16\">\n",
       " <path d=\"M2 2.5A2.5 2.5 0 014.5 0h8.75a.75.75 0 01.75.75v12.5a.75.75 0 01-.75.75h-2.5a.75.75 0 110-1.5h1.75v-2h-8a1 1 0 00-.714 1.7.75.75 0 01-1.072 1.05A2.495 2.495 0 012 11.5v-9zm10.5-1V9h-8c-.356 0-.694.074-1 .208V2.5a1 1 0 011-1h8zM5 12.25v3.25a.25.25 0 00.4.2l1.45-1.087a.25.25 0 01.3 0L8.6 15.7a.25.25 0 00.4-.2v-3.25a.25.25 0 00-.25-.25h-3.5a.25.25 0 00-.25.25z\" fill-rule=\"evenodd\"></path>\n",
       " </svg>\n",
       "       go-limiter\n",
       " </a> </h1>\n",
       " <div class=\"f6 color-fg-muted mt-1\">\n",
       "       A supersonic rate limiting package for Go with HTTP middleware.\n",
       "     </div>\n",
       " </article>\n",
       " </div>\n",
       " </div>,\n",
       " <div class=\"col-md-6\">\n",
       " <h1 class=\"h3 lh-condensed\">\n",
       " <a data-hydro-click='{\"event_type\":\"explore.click\",\"payload\":{\"click_context\":\"TRENDING_DEVELOPERS_PAGE\",\"click_target\":\"OWNER\",\"click_visual_representation\":\"TRENDING_DEVELOPER\",\"actor_id\":null,\"record_id\":604030,\"originating_url\":\"https://github.com/trending/developers\",\"user_id\":null}}' data-hydro-click-hmac=\"b7e6b43fcd2fb40011a847ebe6c58f51a987e724ad12dbd9a133f5687d92c2bc\" data-view-component=\"true\" href=\"/angus-c\">\n",
       "             angus croll\n",
       " </a> </h1>\n",
       " <p class=\"f4 text-normal mb-1\">\n",
       " <a class=\"Link--secondary\" data-hydro-click='{\"event_type\":\"explore.click\",\"payload\":{\"click_context\":\"TRENDING_DEVELOPERS_PAGE\",\"click_target\":\"OWNER\",\"click_visual_representation\":\"TRENDING_DEVELOPER\",\"actor_id\":null,\"record_id\":604030,\"originating_url\":\"https://github.com/trending/developers\",\"user_id\":null}}' data-hydro-click-hmac=\"b7e6b43fcd2fb40011a847ebe6c58f51a987e724ad12dbd9a133f5687d92c2bc\" data-view-component=\"true\" href=\"/angus-c\">\n",
       "               angus-c\n",
       " </a> </p>\n",
       " </div>,\n",
       " <div class=\"col-md-6\">\n",
       " <div class=\"mt-2 mb-3 my-md-0\">\n",
       " <article>\n",
       " <div class=\"f6 color-fg-muted text-uppercase mb-1\"><svg aria-hidden=\"true\" class=\"octicon octicon-flame color-text-orange-light mr-1\" data-view-component=\"true\" height=\"16\" version=\"1.1\" viewbox=\"0 0 16 16\" width=\"16\">\n",
       " <path d=\"M7.998 14.5c2.832 0 5-1.98 5-4.5 0-1.463-.68-2.19-1.879-3.383l-.036-.037c-1.013-1.008-2.3-2.29-2.834-4.434-.322.256-.63.579-.864.953-.432.696-.621 1.58-.046 2.73.473.947.67 2.284-.278 3.232-.61.61-1.545.84-2.403.633a2.788 2.788 0 01-1.436-.874A3.21 3.21 0 003 10c0 2.53 2.164 4.5 4.998 4.5zM9.533.753C9.496.34 9.16.009 8.77.146 7.035.75 4.34 3.187 5.997 6.5c.344.689.285 1.218.003 1.5-.419.419-1.54.487-2.04-.832-.173-.454-.659-.762-1.035-.454C2.036 7.44 1.5 8.702 1.5 10c0 3.512 2.998 6 6.498 6s6.5-2.5 6.5-6c0-2.137-1.128-3.26-2.312-4.438-1.19-1.184-2.436-2.425-2.653-4.81z\" fill-rule=\"evenodd\"></path>\n",
       " </svg>Popular repo</div>\n",
       " <h1 class=\"h4 lh-condensed\">\n",
       " <a class=\"css-truncate css-truncate-target\" data-ga-click=\"Explore, go to repository, location:trending developers\" data-hydro-click='{\"event_type\":\"explore.click\",\"payload\":{\"click_context\":\"TRENDING_DEVELOPERS_PAGE\",\"click_target\":\"REPOSITORY\",\"click_visual_representation\":\"REPOSITORY_NAME_HEADING\",\"actor_id\":null,\"record_id\":61969625,\"originating_url\":\"https://github.com/trending/developers\",\"user_id\":null}}' data-hydro-click-hmac=\"73eaaca7bd5b17829b0445bacf2dfb726111c1a65993b0cc8bd7a91b00657d56\" data-view-component=\"true\" href=\"/angus-c/just\" style=\"max-width: 175px;\">\n",
       " <svg aria-hidden=\"true\" class=\"octicon octicon-repo color-icon-secondary mr-1\" data-view-component=\"true\" height=\"16\" version=\"1.1\" viewbox=\"0 0 16 16\" width=\"16\">\n",
       " <path d=\"M2 2.5A2.5 2.5 0 014.5 0h8.75a.75.75 0 01.75.75v12.5a.75.75 0 01-.75.75h-2.5a.75.75 0 110-1.5h1.75v-2h-8a1 1 0 00-.714 1.7.75.75 0 01-1.072 1.05A2.495 2.495 0 012 11.5v-9zm10.5-1V9h-8c-.356 0-.694.074-1 .208V2.5a1 1 0 011-1h8zM5 12.25v3.25a.25.25 0 00.4.2l1.45-1.087a.25.25 0 01.3 0L8.6 15.7a.25.25 0 00.4-.2v-3.25a.25.25 0 00-.25-.25h-3.5a.25.25 0 00-.25.25z\" fill-rule=\"evenodd\"></path>\n",
       " </svg>\n",
       "       just\n",
       " </a> </h1>\n",
       " <div class=\"f6 color-fg-muted mt-1\">\n",
       "       A library of dependency-free JavaScript functions that do just do one thing.\n",
       "     </div>\n",
       " </article>\n",
       " </div>\n",
       " </div>,\n",
       " <div class=\"col-md-6\">\n",
       " <h1 class=\"h3 lh-condensed\">\n",
       " <a data-hydro-click='{\"event_type\":\"explore.click\",\"payload\":{\"click_context\":\"TRENDING_DEVELOPERS_PAGE\",\"click_target\":\"OWNER\",\"click_visual_representation\":\"TRENDING_DEVELOPER\",\"actor_id\":null,\"record_id\":13313058,\"originating_url\":\"https://github.com/trending/developers\",\"user_id\":null}}' data-hydro-click-hmac=\"db7b6257d4254e1d26591ff38fbe876a4847bdc939ebc709910c7ae84658a933\" data-view-component=\"true\" href=\"/aralroca\">\n",
       "             Aral Roca Gomez\n",
       " </a> </h1>\n",
       " <p class=\"f4 text-normal mb-1\">\n",
       " <a class=\"Link--secondary\" data-hydro-click='{\"event_type\":\"explore.click\",\"payload\":{\"click_context\":\"TRENDING_DEVELOPERS_PAGE\",\"click_target\":\"OWNER\",\"click_visual_representation\":\"TRENDING_DEVELOPER\",\"actor_id\":null,\"record_id\":13313058,\"originating_url\":\"https://github.com/trending/developers\",\"user_id\":null}}' data-hydro-click-hmac=\"db7b6257d4254e1d26591ff38fbe876a4847bdc939ebc709910c7ae84658a933\" data-view-component=\"true\" href=\"/aralroca\">\n",
       "               aralroca\n",
       " </a> </p>\n",
       " </div>,\n",
       " <div class=\"col-md-6\">\n",
       " <div class=\"mt-2 mb-3 my-md-0\">\n",
       " <article>\n",
       " <div class=\"f6 color-fg-muted text-uppercase mb-1\"><svg aria-hidden=\"true\" class=\"octicon octicon-flame color-text-orange-light mr-1\" data-view-component=\"true\" height=\"16\" version=\"1.1\" viewbox=\"0 0 16 16\" width=\"16\">\n",
       " <path d=\"M7.998 14.5c2.832 0 5-1.98 5-4.5 0-1.463-.68-2.19-1.879-3.383l-.036-.037c-1.013-1.008-2.3-2.29-2.834-4.434-.322.256-.63.579-.864.953-.432.696-.621 1.58-.046 2.73.473.947.67 2.284-.278 3.232-.61.61-1.545.84-2.403.633a2.788 2.788 0 01-1.436-.874A3.21 3.21 0 003 10c0 2.53 2.164 4.5 4.998 4.5zM9.533.753C9.496.34 9.16.009 8.77.146 7.035.75 4.34 3.187 5.997 6.5c.344.689.285 1.218.003 1.5-.419.419-1.54.487-2.04-.832-.173-.454-.659-.762-1.035-.454C2.036 7.44 1.5 8.702 1.5 10c0 3.512 2.998 6 6.498 6s6.5-2.5 6.5-6c0-2.137-1.128-3.26-2.312-4.438-1.19-1.184-2.436-2.425-2.653-4.81z\" fill-rule=\"evenodd\"></path>\n",
       " </svg>Popular repo</div>\n",
       " <h1 class=\"h4 lh-condensed\">\n",
       " <a class=\"css-truncate css-truncate-target\" data-ga-click=\"Explore, go to repository, location:trending developers\" data-hydro-click='{\"event_type\":\"explore.click\",\"payload\":{\"click_context\":\"TRENDING_DEVELOPERS_PAGE\",\"click_target\":\"REPOSITORY\",\"click_visual_representation\":\"REPOSITORY_NAME_HEADING\",\"actor_id\":null,\"record_id\":284684641,\"originating_url\":\"https://github.com/trending/developers\",\"user_id\":null}}' data-hydro-click-hmac=\"06ff2b0f9a4be2dc357ee8be37c24e449fd94d0119bb55a1bba97b777c3650f8\" data-view-component=\"true\" href=\"/aralroca/webgl-gears\" style=\"max-width: 175px;\">\n",
       " <svg aria-hidden=\"true\" class=\"octicon octicon-repo color-icon-secondary mr-1\" data-view-component=\"true\" height=\"16\" version=\"1.1\" viewbox=\"0 0 16 16\" width=\"16\">\n",
       " <path d=\"M2 2.5A2.5 2.5 0 014.5 0h8.75a.75.75 0 01.75.75v12.5a.75.75 0 01-.75.75h-2.5a.75.75 0 110-1.5h1.75v-2h-8a1 1 0 00-.714 1.7.75.75 0 01-1.072 1.05A2.495 2.495 0 012 11.5v-9zm10.5-1V9h-8c-.356 0-.694.074-1 .208V2.5a1 1 0 011-1h8zM5 12.25v3.25a.25.25 0 00.4.2l1.45-1.087a.25.25 0 01.3 0L8.6 15.7a.25.25 0 00.4-.2v-3.25a.25.25 0 00-.25-.25h-3.5a.25.25 0 00-.25.25z\" fill-rule=\"evenodd\"></path>\n",
       " </svg>\n",
       "       webgl-gears\n",
       " </a> </h1>\n",
       " <div class=\"f6 color-fg-muted mt-1\">\n",
       "       Dynamic gears implemented with WebGL\n",
       "     </div>\n",
       " </article>\n",
       " </div>\n",
       " </div>,\n",
       " <div class=\"col-md-6\">\n",
       " <h1 class=\"h3 lh-condensed\">\n",
       " <a data-hydro-click='{\"event_type\":\"explore.click\",\"payload\":{\"click_context\":\"TRENDING_DEVELOPERS_PAGE\",\"click_target\":\"OWNER\",\"click_visual_representation\":\"TRENDING_DEVELOPER\",\"actor_id\":null,\"record_id\":2117018,\"originating_url\":\"https://github.com/trending/developers\",\"user_id\":null}}' data-hydro-click-hmac=\"803af2499159c399aeb57a37fe93d0b74ad63a667400604e5467b1c043d58ac9\" data-view-component=\"true\" href=\"/wenzhixin\">\n",
       "             文翼\n",
       " </a> </h1>\n",
       " <p class=\"f4 text-normal mb-1\">\n",
       " <a class=\"Link--secondary\" data-hydro-click='{\"event_type\":\"explore.click\",\"payload\":{\"click_context\":\"TRENDING_DEVELOPERS_PAGE\",\"click_target\":\"OWNER\",\"click_visual_representation\":\"TRENDING_DEVELOPER\",\"actor_id\":null,\"record_id\":2117018,\"originating_url\":\"https://github.com/trending/developers\",\"user_id\":null}}' data-hydro-click-hmac=\"803af2499159c399aeb57a37fe93d0b74ad63a667400604e5467b1c043d58ac9\" data-view-component=\"true\" href=\"/wenzhixin\">\n",
       "               wenzhixin\n",
       " </a> </p>\n",
       " </div>,\n",
       " <div class=\"col-md-6\">\n",
       " <div class=\"mt-2 mb-3 my-md-0\">\n",
       " <article>\n",
       " <div class=\"f6 color-fg-muted text-uppercase mb-1\"><svg aria-hidden=\"true\" class=\"octicon octicon-flame color-text-orange-light mr-1\" data-view-component=\"true\" height=\"16\" version=\"1.1\" viewbox=\"0 0 16 16\" width=\"16\">\n",
       " <path d=\"M7.998 14.5c2.832 0 5-1.98 5-4.5 0-1.463-.68-2.19-1.879-3.383l-.036-.037c-1.013-1.008-2.3-2.29-2.834-4.434-.322.256-.63.579-.864.953-.432.696-.621 1.58-.046 2.73.473.947.67 2.284-.278 3.232-.61.61-1.545.84-2.403.633a2.788 2.788 0 01-1.436-.874A3.21 3.21 0 003 10c0 2.53 2.164 4.5 4.998 4.5zM9.533.753C9.496.34 9.16.009 8.77.146 7.035.75 4.34 3.187 5.997 6.5c.344.689.285 1.218.003 1.5-.419.419-1.54.487-2.04-.832-.173-.454-.659-.762-1.035-.454C2.036 7.44 1.5 8.702 1.5 10c0 3.512 2.998 6 6.498 6s6.5-2.5 6.5-6c0-2.137-1.128-3.26-2.312-4.438-1.19-1.184-2.436-2.425-2.653-4.81z\" fill-rule=\"evenodd\"></path>\n",
       " </svg>Popular repo</div>\n",
       " <h1 class=\"h4 lh-condensed\">\n",
       " <a class=\"css-truncate css-truncate-target\" data-ga-click=\"Explore, go to repository, location:trending developers\" data-hydro-click='{\"event_type\":\"explore.click\",\"payload\":{\"click_context\":\"TRENDING_DEVELOPERS_PAGE\",\"click_target\":\"REPOSITORY\",\"click_visual_representation\":\"REPOSITORY_NAME_HEADING\",\"actor_id\":null,\"record_id\":12246785,\"originating_url\":\"https://github.com/trending/developers\",\"user_id\":null}}' data-hydro-click-hmac=\"a8c1b8a012bcd4da9080681c78f328337c5c9c7880f0073849dd396f31a00315\" data-view-component=\"true\" href=\"/wenzhixin/bootstrap-table\" style=\"max-width: 175px;\">\n",
       " <svg aria-hidden=\"true\" class=\"octicon octicon-repo color-icon-secondary mr-1\" data-view-component=\"true\" height=\"16\" version=\"1.1\" viewbox=\"0 0 16 16\" width=\"16\">\n",
       " <path d=\"M2 2.5A2.5 2.5 0 014.5 0h8.75a.75.75 0 01.75.75v12.5a.75.75 0 01-.75.75h-2.5a.75.75 0 110-1.5h1.75v-2h-8a1 1 0 00-.714 1.7.75.75 0 01-1.072 1.05A2.495 2.495 0 012 11.5v-9zm10.5-1V9h-8c-.356 0-.694.074-1 .208V2.5a1 1 0 011-1h8zM5 12.25v3.25a.25.25 0 00.4.2l1.45-1.087a.25.25 0 01.3 0L8.6 15.7a.25.25 0 00.4-.2v-3.25a.25.25 0 00-.25-.25h-3.5a.25.25 0 00-.25.25z\" fill-rule=\"evenodd\"></path>\n",
       " </svg>\n",
       "       bootstrap-table\n",
       " </a> </h1>\n",
       " <div class=\"f6 color-fg-muted mt-1\">\n",
       "       An extended table to integration with some of the most widely used CSS frameworks. (Supports Bootstrap, Semantic UI, Bulma, Material Design, Foundation, Vue.js)\n",
       "     </div>\n",
       " </article>\n",
       " </div>\n",
       " </div>,\n",
       " <div class=\"col-md-6\">\n",
       " <h1 class=\"h3 lh-condensed\">\n",
       " <a data-hydro-click='{\"event_type\":\"explore.click\",\"payload\":{\"click_context\":\"TRENDING_DEVELOPERS_PAGE\",\"click_target\":\"OWNER\",\"click_visual_representation\":\"TRENDING_DEVELOPER\",\"actor_id\":null,\"record_id\":6705160,\"originating_url\":\"https://github.com/trending/developers\",\"user_id\":null}}' data-hydro-click-hmac=\"fbc1d38640e1e15608657cba23d3a2446e0d82db141de5c939f899be87390fd8\" data-view-component=\"true\" href=\"/williamboman\">\n",
       "             William Boman\n",
       " </a> </h1>\n",
       " <p class=\"f4 text-normal mb-1\">\n",
       " <a class=\"Link--secondary\" data-hydro-click='{\"event_type\":\"explore.click\",\"payload\":{\"click_context\":\"TRENDING_DEVELOPERS_PAGE\",\"click_target\":\"OWNER\",\"click_visual_representation\":\"TRENDING_DEVELOPER\",\"actor_id\":null,\"record_id\":6705160,\"originating_url\":\"https://github.com/trending/developers\",\"user_id\":null}}' data-hydro-click-hmac=\"fbc1d38640e1e15608657cba23d3a2446e0d82db141de5c939f899be87390fd8\" data-view-component=\"true\" href=\"/williamboman\">\n",
       "               williamboman\n",
       " </a> </p>\n",
       " </div>,\n",
       " <div class=\"col-md-6\">\n",
       " <div class=\"mt-2 mb-3 my-md-0\">\n",
       " <article>\n",
       " <div class=\"f6 color-fg-muted text-uppercase mb-1\"><svg aria-hidden=\"true\" class=\"octicon octicon-flame color-text-orange-light mr-1\" data-view-component=\"true\" height=\"16\" version=\"1.1\" viewbox=\"0 0 16 16\" width=\"16\">\n",
       " <path d=\"M7.998 14.5c2.832 0 5-1.98 5-4.5 0-1.463-.68-2.19-1.879-3.383l-.036-.037c-1.013-1.008-2.3-2.29-2.834-4.434-.322.256-.63.579-.864.953-.432.696-.621 1.58-.046 2.73.473.947.67 2.284-.278 3.232-.61.61-1.545.84-2.403.633a2.788 2.788 0 01-1.436-.874A3.21 3.21 0 003 10c0 2.53 2.164 4.5 4.998 4.5zM9.533.753C9.496.34 9.16.009 8.77.146 7.035.75 4.34 3.187 5.997 6.5c.344.689.285 1.218.003 1.5-.419.419-1.54.487-2.04-.832-.173-.454-.659-.762-1.035-.454C2.036 7.44 1.5 8.702 1.5 10c0 3.512 2.998 6 6.498 6s6.5-2.5 6.5-6c0-2.137-1.128-3.26-2.312-4.438-1.19-1.184-2.436-2.425-2.653-4.81z\" fill-rule=\"evenodd\"></path>\n",
       " </svg>Popular repo</div>\n",
       " <h1 class=\"h4 lh-condensed\">\n",
       " <a class=\"css-truncate css-truncate-target\" data-ga-click=\"Explore, go to repository, location:trending developers\" data-hydro-click='{\"event_type\":\"explore.click\",\"payload\":{\"click_context\":\"TRENDING_DEVELOPERS_PAGE\",\"click_target\":\"REPOSITORY\",\"click_visual_representation\":\"REPOSITORY_NAME_HEADING\",\"actor_id\":null,\"record_id\":354579091,\"originating_url\":\"https://github.com/trending/developers\",\"user_id\":null}}' data-hydro-click-hmac=\"7b0c7ded7de0d9ccd937aadef049095b90cd82d4837d082ea74ae76a397b0b5f\" data-view-component=\"true\" href=\"/williamboman/nvim-lsp-installer\" style=\"max-width: 175px;\">\n",
       " <svg aria-hidden=\"true\" class=\"octicon octicon-repo color-icon-secondary mr-1\" data-view-component=\"true\" height=\"16\" version=\"1.1\" viewbox=\"0 0 16 16\" width=\"16\">\n",
       " <path d=\"M2 2.5A2.5 2.5 0 014.5 0h8.75a.75.75 0 01.75.75v12.5a.75.75 0 01-.75.75h-2.5a.75.75 0 110-1.5h1.75v-2h-8a1 1 0 00-.714 1.7.75.75 0 01-1.072 1.05A2.495 2.495 0 012 11.5v-9zm10.5-1V9h-8c-.356 0-.694.074-1 .208V2.5a1 1 0 011-1h8zM5 12.25v3.25a.25.25 0 00.4.2l1.45-1.087a.25.25 0 01.3 0L8.6 15.7a.25.25 0 00.4-.2v-3.25a.25.25 0 00-.25-.25h-3.5a.25.25 0 00-.25.25z\" fill-rule=\"evenodd\"></path>\n",
       " </svg>\n",
       "       nvim-lsp-installer\n",
       " </a> </h1>\n",
       " <div class=\"f6 color-fg-muted mt-1\">\n",
       "       Companion plugin for nvim-lspconfig that allows you to seamlessly install LSP servers locally with :LspInstall. (also supports Windows)\n",
       "     </div>\n",
       " </article>\n",
       " </div>\n",
       " </div>,\n",
       " <div class=\"col-md-6\">\n",
       " <h1 class=\"h3 lh-condensed\">\n",
       " <a data-hydro-click='{\"event_type\":\"explore.click\",\"payload\":{\"click_context\":\"TRENDING_DEVELOPERS_PAGE\",\"click_target\":\"OWNER\",\"click_visual_representation\":\"TRENDING_DEVELOPER\",\"actor_id\":null,\"record_id\":3670578,\"originating_url\":\"https://github.com/trending/developers\",\"user_id\":null}}' data-hydro-click-hmac=\"39ff48c8a63f1b772b82ca24735ac6bab84636620df363b05e001bb173646739\" data-view-component=\"true\" href=\"/calebporzio\">\n",
       "             Caleb Porzio\n",
       " </a> </h1>\n",
       " <p class=\"f4 text-normal mb-1\">\n",
       " <a class=\"Link--secondary\" data-hydro-click='{\"event_type\":\"explore.click\",\"payload\":{\"click_context\":\"TRENDING_DEVELOPERS_PAGE\",\"click_target\":\"OWNER\",\"click_visual_representation\":\"TRENDING_DEVELOPER\",\"actor_id\":null,\"record_id\":3670578,\"originating_url\":\"https://github.com/trending/developers\",\"user_id\":null}}' data-hydro-click-hmac=\"39ff48c8a63f1b772b82ca24735ac6bab84636620df363b05e001bb173646739\" data-view-component=\"true\" href=\"/calebporzio\">\n",
       "               calebporzio\n",
       " </a> </p>\n",
       " </div>,\n",
       " <div class=\"col-md-6\">\n",
       " <div class=\"mt-2 mb-3 my-md-0\">\n",
       " <article>\n",
       " <div class=\"f6 color-fg-muted text-uppercase mb-1\"><svg aria-hidden=\"true\" class=\"octicon octicon-flame color-text-orange-light mr-1\" data-view-component=\"true\" height=\"16\" version=\"1.1\" viewbox=\"0 0 16 16\" width=\"16\">\n",
       " <path d=\"M7.998 14.5c2.832 0 5-1.98 5-4.5 0-1.463-.68-2.19-1.879-3.383l-.036-.037c-1.013-1.008-2.3-2.29-2.834-4.434-.322.256-.63.579-.864.953-.432.696-.621 1.58-.046 2.73.473.947.67 2.284-.278 3.232-.61.61-1.545.84-2.403.633a2.788 2.788 0 01-1.436-.874A3.21 3.21 0 003 10c0 2.53 2.164 4.5 4.998 4.5zM9.533.753C9.496.34 9.16.009 8.77.146 7.035.75 4.34 3.187 5.997 6.5c.344.689.285 1.218.003 1.5-.419.419-1.54.487-2.04-.832-.173-.454-.659-.762-1.035-.454C2.036 7.44 1.5 8.702 1.5 10c0 3.512 2.998 6 6.498 6s6.5-2.5 6.5-6c0-2.137-1.128-3.26-2.312-4.438-1.19-1.184-2.436-2.425-2.653-4.81z\" fill-rule=\"evenodd\"></path>\n",
       " </svg>Popular repo</div>\n",
       " <h1 class=\"h4 lh-condensed\">\n",
       " <a class=\"css-truncate css-truncate-target\" data-ga-click=\"Explore, go to repository, location:trending developers\" data-hydro-click='{\"event_type\":\"explore.click\",\"payload\":{\"click_context\":\"TRENDING_DEVELOPERS_PAGE\",\"click_target\":\"REPOSITORY\",\"click_visual_representation\":\"REPOSITORY_NAME_HEADING\",\"actor_id\":null,\"record_id\":236121806,\"originating_url\":\"https://github.com/trending/developers\",\"user_id\":null}}' data-hydro-click-hmac=\"244c7627e93bc5bcae81ccccbc48027e878f67d3928f8909d3cb82399791e23e\" data-view-component=\"true\" href=\"/calebporzio/sushi\" style=\"max-width: 175px;\">\n",
       " <svg aria-hidden=\"true\" class=\"octicon octicon-repo color-icon-secondary mr-1\" data-view-component=\"true\" height=\"16\" version=\"1.1\" viewbox=\"0 0 16 16\" width=\"16\">\n",
       " <path d=\"M2 2.5A2.5 2.5 0 014.5 0h8.75a.75.75 0 01.75.75v12.5a.75.75 0 01-.75.75h-2.5a.75.75 0 110-1.5h1.75v-2h-8a1 1 0 00-.714 1.7.75.75 0 01-1.072 1.05A2.495 2.495 0 012 11.5v-9zm10.5-1V9h-8c-.356 0-.694.074-1 .208V2.5a1 1 0 011-1h8zM5 12.25v3.25a.25.25 0 00.4.2l1.45-1.087a.25.25 0 01.3 0L8.6 15.7a.25.25 0 00.4-.2v-3.25a.25.25 0 00-.25-.25h-3.5a.25.25 0 00-.25.25z\" fill-rule=\"evenodd\"></path>\n",
       " </svg>\n",
       "       sushi\n",
       " </a> </h1>\n",
       " <div class=\"f6 color-fg-muted mt-1\">\n",
       "       Eloquent's missing \"array\" driver.\n",
       "     </div>\n",
       " </article>\n",
       " </div>\n",
       " </div>,\n",
       " <div class=\"col-md-6\">\n",
       " <h1 class=\"h3 lh-condensed\">\n",
       " <a data-hydro-click='{\"event_type\":\"explore.click\",\"payload\":{\"click_context\":\"TRENDING_DEVELOPERS_PAGE\",\"click_target\":\"OWNER\",\"click_visual_representation\":\"TRENDING_DEVELOPER\",\"actor_id\":null,\"record_id\":4408379,\"originating_url\":\"https://github.com/trending/developers\",\"user_id\":null}}' data-hydro-click-hmac=\"214f4401130355fd58d561b423eeed4a0e6de003c6656986139ee4ec6131e25c\" data-view-component=\"true\" href=\"/lex111\">\n",
       "             Alexey Pyltsyn\n",
       " </a> </h1>\n",
       " <p class=\"f4 text-normal mb-1\">\n",
       " <a class=\"Link--secondary\" data-hydro-click='{\"event_type\":\"explore.click\",\"payload\":{\"click_context\":\"TRENDING_DEVELOPERS_PAGE\",\"click_target\":\"OWNER\",\"click_visual_representation\":\"TRENDING_DEVELOPER\",\"actor_id\":null,\"record_id\":4408379,\"originating_url\":\"https://github.com/trending/developers\",\"user_id\":null}}' data-hydro-click-hmac=\"214f4401130355fd58d561b423eeed4a0e6de003c6656986139ee4ec6131e25c\" data-view-component=\"true\" href=\"/lex111\">\n",
       "               lex111\n",
       " </a> </p>\n",
       " </div>,\n",
       " <div class=\"col-md-6\">\n",
       " <div class=\"mt-2 mb-3 my-md-0\">\n",
       " <article>\n",
       " <div class=\"f6 color-fg-muted text-uppercase mb-1\"><svg aria-hidden=\"true\" class=\"octicon octicon-flame color-text-orange-light mr-1\" data-view-component=\"true\" height=\"16\" version=\"1.1\" viewbox=\"0 0 16 16\" width=\"16\">\n",
       " <path d=\"M7.998 14.5c2.832 0 5-1.98 5-4.5 0-1.463-.68-2.19-1.879-3.383l-.036-.037c-1.013-1.008-2.3-2.29-2.834-4.434-.322.256-.63.579-.864.953-.432.696-.621 1.58-.046 2.73.473.947.67 2.284-.278 3.232-.61.61-1.545.84-2.403.633a2.788 2.788 0 01-1.436-.874A3.21 3.21 0 003 10c0 2.53 2.164 4.5 4.998 4.5zM9.533.753C9.496.34 9.16.009 8.77.146 7.035.75 4.34 3.187 5.997 6.5c.344.689.285 1.218.003 1.5-.419.419-1.54.487-2.04-.832-.173-.454-.659-.762-1.035-.454C2.036 7.44 1.5 8.702 1.5 10c0 3.512 2.998 6 6.498 6s6.5-2.5 6.5-6c0-2.137-1.128-3.26-2.312-4.438-1.19-1.184-2.436-2.425-2.653-4.81z\" fill-rule=\"evenodd\"></path>\n",
       " </svg>Popular repo</div>\n",
       " <h1 class=\"h4 lh-condensed\">\n",
       " <a class=\"css-truncate css-truncate-target\" data-ga-click=\"Explore, go to repository, location:trending developers\" data-hydro-click='{\"event_type\":\"explore.click\",\"payload\":{\"click_context\":\"TRENDING_DEVELOPERS_PAGE\",\"click_target\":\"REPOSITORY\",\"click_visual_representation\":\"REPOSITORY_NAME_HEADING\",\"actor_id\":null,\"record_id\":118381119,\"originating_url\":\"https://github.com/trending/developers\",\"user_id\":null}}' data-hydro-click-hmac=\"f55bec7b81fec9ac8f380b938a6c56d0cba73e0e499c631b3d751742a805fae0\" data-view-component=\"true\" href=\"/lex111/translations\" style=\"max-width: 175px;\">\n",
       " <svg aria-hidden=\"true\" class=\"octicon octicon-repo-forked color-icon-secondary mr-1\" data-view-component=\"true\" height=\"16\" version=\"1.1\" viewbox=\"0 0 16 16\" width=\"16\">\n",
       " <path d=\"M5 3.25a.75.75 0 11-1.5 0 .75.75 0 011.5 0zm0 2.122a2.25 2.25 0 10-1.5 0v.878A2.25 2.25 0 005.75 8.5h1.5v2.128a2.251 2.251 0 101.5 0V8.5h1.5a2.25 2.25 0 002.25-2.25v-.878a2.25 2.25 0 10-1.5 0v.878a.75.75 0 01-.75.75h-4.5A.75.75 0 015 6.25v-.878zm3.75 7.378a.75.75 0 11-1.5 0 .75.75 0 011.5 0zm3-8.75a.75.75 0 100-1.5.75.75 0 000 1.5z\" fill-rule=\"evenodd\"></path>\n",
       " </svg>\n",
       "       translations\n",
       " </a> </h1>\n",
       " <div class=\"f6 color-fg-muted mt-1\">\n",
       "       Переводы от devSchacht\n",
       "     </div>\n",
       " </article>\n",
       " </div>\n",
       " </div>,\n",
       " <div class=\"col-md-6\">\n",
       " <h1 class=\"h3 lh-condensed\">\n",
       " <a data-hydro-click='{\"event_type\":\"explore.click\",\"payload\":{\"click_context\":\"TRENDING_DEVELOPERS_PAGE\",\"click_target\":\"OWNER\",\"click_visual_representation\":\"TRENDING_DEVELOPER\",\"actor_id\":null,\"record_id\":216089,\"originating_url\":\"https://github.com/trending/developers\",\"user_id\":null}}' data-hydro-click-hmac=\"ac5c25d23e8a1e81905e2348b9417dafad1112a36a744ade32ece9a4cae913ae\" data-view-component=\"true\" href=\"/AliSoftware\">\n",
       "             Olivier Halligon\n",
       " </a> </h1>\n",
       " <p class=\"f4 text-normal mb-1\">\n",
       " <a class=\"Link--secondary\" data-hydro-click='{\"event_type\":\"explore.click\",\"payload\":{\"click_context\":\"TRENDING_DEVELOPERS_PAGE\",\"click_target\":\"OWNER\",\"click_visual_representation\":\"TRENDING_DEVELOPER\",\"actor_id\":null,\"record_id\":216089,\"originating_url\":\"https://github.com/trending/developers\",\"user_id\":null}}' data-hydro-click-hmac=\"ac5c25d23e8a1e81905e2348b9417dafad1112a36a744ade32ece9a4cae913ae\" data-view-component=\"true\" href=\"/AliSoftware\">\n",
       "               AliSoftware\n",
       " </a> </p>\n",
       " </div>,\n",
       " <div class=\"col-md-6\">\n",
       " <div class=\"mt-2 mb-3 my-md-0\">\n",
       " <article>\n",
       " <div class=\"f6 color-fg-muted text-uppercase mb-1\"><svg aria-hidden=\"true\" class=\"octicon octicon-flame color-text-orange-light mr-1\" data-view-component=\"true\" height=\"16\" version=\"1.1\" viewbox=\"0 0 16 16\" width=\"16\">\n",
       " <path d=\"M7.998 14.5c2.832 0 5-1.98 5-4.5 0-1.463-.68-2.19-1.879-3.383l-.036-.037c-1.013-1.008-2.3-2.29-2.834-4.434-.322.256-.63.579-.864.953-.432.696-.621 1.58-.046 2.73.473.947.67 2.284-.278 3.232-.61.61-1.545.84-2.403.633a2.788 2.788 0 01-1.436-.874A3.21 3.21 0 003 10c0 2.53 2.164 4.5 4.998 4.5zM9.533.753C9.496.34 9.16.009 8.77.146 7.035.75 4.34 3.187 5.997 6.5c.344.689.285 1.218.003 1.5-.419.419-1.54.487-2.04-.832-.173-.454-.659-.762-1.035-.454C2.036 7.44 1.5 8.702 1.5 10c0 3.512 2.998 6 6.498 6s6.5-2.5 6.5-6c0-2.137-1.128-3.26-2.312-4.438-1.19-1.184-2.436-2.425-2.653-4.81z\" fill-rule=\"evenodd\"></path>\n",
       " </svg>Popular repo</div>\n",
       " <h1 class=\"h4 lh-condensed\">\n",
       " <a class=\"css-truncate css-truncate-target\" data-ga-click=\"Explore, go to repository, location:trending developers\" data-hydro-click='{\"event_type\":\"explore.click\",\"payload\":{\"click_context\":\"TRENDING_DEVELOPERS_PAGE\",\"click_target\":\"REPOSITORY\",\"click_visual_representation\":\"REPOSITORY_NAME_HEADING\",\"actor_id\":null,\"record_id\":4975026,\"originating_url\":\"https://github.com/trending/developers\",\"user_id\":null}}' data-hydro-click-hmac=\"ae23f2741011d1272a06de12dc8620a833f6efb99eeb80450d677498d64cba80\" data-view-component=\"true\" href=\"/AliSoftware/OHHTTPStubs\" style=\"max-width: 175px;\">\n",
       " <svg aria-hidden=\"true\" class=\"octicon octicon-repo color-icon-secondary mr-1\" data-view-component=\"true\" height=\"16\" version=\"1.1\" viewbox=\"0 0 16 16\" width=\"16\">\n",
       " <path d=\"M2 2.5A2.5 2.5 0 014.5 0h8.75a.75.75 0 01.75.75v12.5a.75.75 0 01-.75.75h-2.5a.75.75 0 110-1.5h1.75v-2h-8a1 1 0 00-.714 1.7.75.75 0 01-1.072 1.05A2.495 2.495 0 012 11.5v-9zm10.5-1V9h-8c-.356 0-.694.074-1 .208V2.5a1 1 0 011-1h8zM5 12.25v3.25a.25.25 0 00.4.2l1.45-1.087a.25.25 0 01.3 0L8.6 15.7a.25.25 0 00.4-.2v-3.25a.25.25 0 00-.25-.25h-3.5a.25.25 0 00-.25.25z\" fill-rule=\"evenodd\"></path>\n",
       " </svg>\n",
       "       OHHTTPStubs\n",
       " </a> </h1>\n",
       " <div class=\"f6 color-fg-muted mt-1\">\n",
       "       Stub your network requests easily! Test your apps with fake network data and custom response time, response code and headers!\n",
       "     </div>\n",
       " </article>\n",
       " </div>\n",
       " </div>,\n",
       " <div class=\"col-md-6\">\n",
       " <h1 class=\"h3 lh-condensed\">\n",
       " <a data-hydro-click='{\"event_type\":\"explore.click\",\"payload\":{\"click_context\":\"TRENDING_DEVELOPERS_PAGE\",\"click_target\":\"OWNER\",\"click_visual_representation\":\"TRENDING_DEVELOPER\",\"actor_id\":null,\"record_id\":749864,\"originating_url\":\"https://github.com/trending/developers\",\"user_id\":null}}' data-hydro-click-hmac=\"80df811a74c88a8b647a1f9266913ed032b406cc4dc1df826713be930d3a76ee\" data-view-component=\"true\" href=\"/jurre\">\n",
       "             Jurre\n",
       " </a> </h1>\n",
       " <p class=\"f4 text-normal mb-1\">\n",
       " <a class=\"Link--secondary\" data-hydro-click='{\"event_type\":\"explore.click\",\"payload\":{\"click_context\":\"TRENDING_DEVELOPERS_PAGE\",\"click_target\":\"OWNER\",\"click_visual_representation\":\"TRENDING_DEVELOPER\",\"actor_id\":null,\"record_id\":749864,\"originating_url\":\"https://github.com/trending/developers\",\"user_id\":null}}' data-hydro-click-hmac=\"80df811a74c88a8b647a1f9266913ed032b406cc4dc1df826713be930d3a76ee\" data-view-component=\"true\" href=\"/jurre\">\n",
       "               jurre\n",
       " </a> </p>\n",
       " </div>,\n",
       " <div class=\"col-md-6\">\n",
       " <div class=\"f5 color-fg-muted my-2 my-md-0\">\n",
       " <p class=\"mb-3 d-flex flex-items-center\"><svg aria-hidden=\"true\" class=\"octicon octicon-location color-icon-secondary mr-2\" data-view-component=\"true\" height=\"16\" version=\"1.1\" viewbox=\"0 0 16 16\" width=\"16\">\n",
       " <path d=\"M11.536 3.464a5 5 0 010 7.072L8 14.07l-3.536-3.535a5 5 0 117.072-7.072v.001zm1.06 8.132a6.5 6.5 0 10-9.192 0l3.535 3.536a1.5 1.5 0 002.122 0l3.535-3.536zM8 9a2 2 0 100-4 2 2 0 000 4z\" fill-rule=\"evenodd\"></path>\n",
       " </svg> <span class=\"Truncate\" title=\"Is from Groningen, the Netherlands\"><span class=\"Truncate-text\">Groningen, the Netherlands</span></span></p>\n",
       " </div>\n",
       " </div>,\n",
       " <div class=\"col-md-6\">\n",
       " <h1 class=\"h3 lh-condensed\">\n",
       " <a data-hydro-click='{\"event_type\":\"explore.click\",\"payload\":{\"click_context\":\"TRENDING_DEVELOPERS_PAGE\",\"click_target\":\"OWNER\",\"click_visual_representation\":\"TRENDING_DEVELOPER\",\"actor_id\":null,\"record_id\":350282,\"originating_url\":\"https://github.com/trending/developers\",\"user_id\":null}}' data-hydro-click-hmac=\"e9f4c4f05c8864317a3074a8ab8169cadf54ee23e779244c54fc5a70eaa17f6c\" data-view-component=\"true\" href=\"/dfm\">\n",
       "             Dan Foreman-Mackey\n",
       " </a> </h1>\n",
       " <p class=\"f4 text-normal mb-1\">\n",
       " <a class=\"Link--secondary\" data-hydro-click='{\"event_type\":\"explore.click\",\"payload\":{\"click_context\":\"TRENDING_DEVELOPERS_PAGE\",\"click_target\":\"OWNER\",\"click_visual_representation\":\"TRENDING_DEVELOPER\",\"actor_id\":null,\"record_id\":350282,\"originating_url\":\"https://github.com/trending/developers\",\"user_id\":null}}' data-hydro-click-hmac=\"e9f4c4f05c8864317a3074a8ab8169cadf54ee23e779244c54fc5a70eaa17f6c\" data-view-component=\"true\" href=\"/dfm\">\n",
       "               dfm\n",
       " </a> </p>\n",
       " </div>,\n",
       " <div class=\"col-md-6\">\n",
       " <div class=\"mt-2 mb-3 my-md-0\">\n",
       " <article>\n",
       " <div class=\"f6 color-fg-muted text-uppercase mb-1\"><svg aria-hidden=\"true\" class=\"octicon octicon-flame color-text-orange-light mr-1\" data-view-component=\"true\" height=\"16\" version=\"1.1\" viewbox=\"0 0 16 16\" width=\"16\">\n",
       " <path d=\"M7.998 14.5c2.832 0 5-1.98 5-4.5 0-1.463-.68-2.19-1.879-3.383l-.036-.037c-1.013-1.008-2.3-2.29-2.834-4.434-.322.256-.63.579-.864.953-.432.696-.621 1.58-.046 2.73.473.947.67 2.284-.278 3.232-.61.61-1.545.84-2.403.633a2.788 2.788 0 01-1.436-.874A3.21 3.21 0 003 10c0 2.53 2.164 4.5 4.998 4.5zM9.533.753C9.496.34 9.16.009 8.77.146 7.035.75 4.34 3.187 5.997 6.5c.344.689.285 1.218.003 1.5-.419.419-1.54.487-2.04-.832-.173-.454-.659-.762-1.035-.454C2.036 7.44 1.5 8.702 1.5 10c0 3.512 2.998 6 6.498 6s6.5-2.5 6.5-6c0-2.137-1.128-3.26-2.312-4.438-1.19-1.184-2.436-2.425-2.653-4.81z\" fill-rule=\"evenodd\"></path>\n",
       " </svg>Popular repo</div>\n",
       " <h1 class=\"h4 lh-condensed\">\n",
       " <a class=\"css-truncate css-truncate-target\" data-ga-click=\"Explore, go to repository, location:trending developers\" data-hydro-click='{\"event_type\":\"explore.click\",\"payload\":{\"click_context\":\"TRENDING_DEVELOPERS_PAGE\",\"click_target\":\"REPOSITORY\",\"click_visual_representation\":\"REPOSITORY_NAME_HEADING\",\"actor_id\":null,\"record_id\":423590179,\"originating_url\":\"https://github.com/trending/developers\",\"user_id\":null}}' data-hydro-click-hmac=\"36b7fdb985a4a94b3b5e80fb24c9cd12ed52979c9bbab373b40dfac199c9755d\" data-view-component=\"true\" href=\"/dfm/jax-finufft\" style=\"max-width: 175px;\">\n",
       " <svg aria-hidden=\"true\" class=\"octicon octicon-repo color-icon-secondary mr-1\" data-view-component=\"true\" height=\"16\" version=\"1.1\" viewbox=\"0 0 16 16\" width=\"16\">\n",
       " <path d=\"M2 2.5A2.5 2.5 0 014.5 0h8.75a.75.75 0 01.75.75v12.5a.75.75 0 01-.75.75h-2.5a.75.75 0 110-1.5h1.75v-2h-8a1 1 0 00-.714 1.7.75.75 0 01-1.072 1.05A2.495 2.495 0 012 11.5v-9zm10.5-1V9h-8c-.356 0-.694.074-1 .208V2.5a1 1 0 011-1h8zM5 12.25v3.25a.25.25 0 00.4.2l1.45-1.087a.25.25 0 01.3 0L8.6 15.7a.25.25 0 00.4-.2v-3.25a.25.25 0 00-.25-.25h-3.5a.25.25 0 00-.25.25z\" fill-rule=\"evenodd\"></path>\n",
       " </svg>\n",
       "       jax-finufft\n",
       " </a> </h1>\n",
       " <div class=\"f6 color-fg-muted mt-1\">\n",
       "       JAX bindings to the Flatiron Institute Non-uniform Fast Fourier Transform (FINUFFT) library\n",
       "     </div>\n",
       " </article>\n",
       " </div>\n",
       " </div>,\n",
       " <div class=\"col-md-6\">\n",
       " <h1 class=\"h3 lh-condensed\">\n",
       " <a data-hydro-click='{\"event_type\":\"explore.click\",\"payload\":{\"click_context\":\"TRENDING_DEVELOPERS_PAGE\",\"click_target\":\"OWNER\",\"click_visual_representation\":\"TRENDING_DEVELOPER\",\"actor_id\":null,\"record_id\":63311,\"originating_url\":\"https://github.com/trending/developers\",\"user_id\":null}}' data-hydro-click-hmac=\"5ea0fc70faa747bdeb3ac5da40e5e287d143894426308317d9897134bc7d0fd4\" data-view-component=\"true\" href=\"/compnerd\">\n",
       "             Saleem Abdulrasool\n",
       " </a> </h1>\n",
       " <p class=\"f4 text-normal mb-1\">\n",
       " <a class=\"Link--secondary\" data-hydro-click='{\"event_type\":\"explore.click\",\"payload\":{\"click_context\":\"TRENDING_DEVELOPERS_PAGE\",\"click_target\":\"OWNER\",\"click_visual_representation\":\"TRENDING_DEVELOPER\",\"actor_id\":null,\"record_id\":63311,\"originating_url\":\"https://github.com/trending/developers\",\"user_id\":null}}' data-hydro-click-hmac=\"5ea0fc70faa747bdeb3ac5da40e5e287d143894426308317d9897134bc7d0fd4\" data-view-component=\"true\" href=\"/compnerd\">\n",
       "               compnerd\n",
       " </a> </p>\n",
       " </div>,\n",
       " <div class=\"col-md-6\">\n",
       " <div class=\"mt-2 mb-3 my-md-0\">\n",
       " <article>\n",
       " <div class=\"f6 color-fg-muted text-uppercase mb-1\"><svg aria-hidden=\"true\" class=\"octicon octicon-flame color-text-orange-light mr-1\" data-view-component=\"true\" height=\"16\" version=\"1.1\" viewbox=\"0 0 16 16\" width=\"16\">\n",
       " <path d=\"M7.998 14.5c2.832 0 5-1.98 5-4.5 0-1.463-.68-2.19-1.879-3.383l-.036-.037c-1.013-1.008-2.3-2.29-2.834-4.434-.322.256-.63.579-.864.953-.432.696-.621 1.58-.046 2.73.473.947.67 2.284-.278 3.232-.61.61-1.545.84-2.403.633a2.788 2.788 0 01-1.436-.874A3.21 3.21 0 003 10c0 2.53 2.164 4.5 4.998 4.5zM9.533.753C9.496.34 9.16.009 8.77.146 7.035.75 4.34 3.187 5.997 6.5c.344.689.285 1.218.003 1.5-.419.419-1.54.487-2.04-.832-.173-.454-.659-.762-1.035-.454C2.036 7.44 1.5 8.702 1.5 10c0 3.512 2.998 6 6.498 6s6.5-2.5 6.5-6c0-2.137-1.128-3.26-2.312-4.438-1.19-1.184-2.436-2.425-2.653-4.81z\" fill-rule=\"evenodd\"></path>\n",
       " </svg>Popular repo</div>\n",
       " <h1 class=\"h4 lh-condensed\">\n",
       " <a class=\"css-truncate css-truncate-target\" data-ga-click=\"Explore, go to repository, location:trending developers\" data-hydro-click='{\"event_type\":\"explore.click\",\"payload\":{\"click_context\":\"TRENDING_DEVELOPERS_PAGE\",\"click_target\":\"REPOSITORY\",\"click_visual_representation\":\"REPOSITORY_NAME_HEADING\",\"actor_id\":null,\"record_id\":171382756,\"originating_url\":\"https://github.com/trending/developers\",\"user_id\":null}}' data-hydro-click-hmac=\"e4477aa0d76f343ee1f4fab406cceb92e12f78454bdf59f22ec5057621c9a1e3\" data-view-component=\"true\" href=\"/compnerd/swift-win32\" style=\"max-width: 175px;\">\n",
       " <svg aria-hidden=\"true\" class=\"octicon octicon-repo color-icon-secondary mr-1\" data-view-component=\"true\" height=\"16\" version=\"1.1\" viewbox=\"0 0 16 16\" width=\"16\">\n",
       " <path d=\"M2 2.5A2.5 2.5 0 014.5 0h8.75a.75.75 0 01.75.75v12.5a.75.75 0 01-.75.75h-2.5a.75.75 0 110-1.5h1.75v-2h-8a1 1 0 00-.714 1.7.75.75 0 01-1.072 1.05A2.495 2.495 0 012 11.5v-9zm10.5-1V9h-8c-.356 0-.694.074-1 .208V2.5a1 1 0 011-1h8zM5 12.25v3.25a.25.25 0 00.4.2l1.45-1.087a.25.25 0 01.3 0L8.6 15.7a.25.25 0 00.4-.2v-3.25a.25.25 0 00-.25-.25h-3.5a.25.25 0 00-.25.25z\" fill-rule=\"evenodd\"></path>\n",
       " </svg>\n",
       "       swift-win32\n",
       " </a> </h1>\n",
       " <div class=\"f6 color-fg-muted mt-1\">\n",
       "       A Windows application framework for Swift\n",
       "     </div>\n",
       " </article>\n",
       " </div>\n",
       " </div>,\n",
       " <div class=\"col-md-6\">\n",
       " <h1 class=\"h3 lh-condensed\">\n",
       " <a data-hydro-click='{\"event_type\":\"explore.click\",\"payload\":{\"click_context\":\"TRENDING_DEVELOPERS_PAGE\",\"click_target\":\"OWNER\",\"click_visual_representation\":\"TRENDING_DEVELOPER\",\"actor_id\":null,\"record_id\":10158439,\"originating_url\":\"https://github.com/trending/developers\",\"user_id\":null}}' data-hydro-click-hmac=\"70776fb3508c8d538fc7ce64028025f69236e2a4179cdc162b0855428abad946\" data-view-component=\"true\" href=\"/tanersener\">\n",
       "             Taner Şener\n",
       " </a> </h1>\n",
       " <p class=\"f4 text-normal mb-1\">\n",
       " <a class=\"Link--secondary\" data-hydro-click='{\"event_type\":\"explore.click\",\"payload\":{\"click_context\":\"TRENDING_DEVELOPERS_PAGE\",\"click_target\":\"OWNER\",\"click_visual_representation\":\"TRENDING_DEVELOPER\",\"actor_id\":null,\"record_id\":10158439,\"originating_url\":\"https://github.com/trending/developers\",\"user_id\":null}}' data-hydro-click-hmac=\"70776fb3508c8d538fc7ce64028025f69236e2a4179cdc162b0855428abad946\" data-view-component=\"true\" href=\"/tanersener\">\n",
       "               tanersener\n",
       " </a> </p>\n",
       " </div>,\n",
       " <div class=\"col-md-6\">\n",
       " <div class=\"mt-2 mb-3 my-md-0\">\n",
       " <article>\n",
       " <div class=\"f6 color-fg-muted text-uppercase mb-1\"><svg aria-hidden=\"true\" class=\"octicon octicon-flame color-text-orange-light mr-1\" data-view-component=\"true\" height=\"16\" version=\"1.1\" viewbox=\"0 0 16 16\" width=\"16\">\n",
       " <path d=\"M7.998 14.5c2.832 0 5-1.98 5-4.5 0-1.463-.68-2.19-1.879-3.383l-.036-.037c-1.013-1.008-2.3-2.29-2.834-4.434-.322.256-.63.579-.864.953-.432.696-.621 1.58-.046 2.73.473.947.67 2.284-.278 3.232-.61.61-1.545.84-2.403.633a2.788 2.788 0 01-1.436-.874A3.21 3.21 0 003 10c0 2.53 2.164 4.5 4.998 4.5zM9.533.753C9.496.34 9.16.009 8.77.146 7.035.75 4.34 3.187 5.997 6.5c.344.689.285 1.218.003 1.5-.419.419-1.54.487-2.04-.832-.173-.454-.659-.762-1.035-.454C2.036 7.44 1.5 8.702 1.5 10c0 3.512 2.998 6 6.498 6s6.5-2.5 6.5-6c0-2.137-1.128-3.26-2.312-4.438-1.19-1.184-2.436-2.425-2.653-4.81z\" fill-rule=\"evenodd\"></path>\n",
       " </svg>Popular repo</div>\n",
       " <h1 class=\"h4 lh-condensed\">\n",
       " <a class=\"css-truncate css-truncate-target\" data-ga-click=\"Explore, go to repository, location:trending developers\" data-hydro-click='{\"event_type\":\"explore.click\",\"payload\":{\"click_context\":\"TRENDING_DEVELOPERS_PAGE\",\"click_target\":\"REPOSITORY\",\"click_visual_representation\":\"REPOSITORY_NAME_HEADING\",\"actor_id\":null,\"record_id\":283149635,\"originating_url\":\"https://github.com/trending/developers\",\"user_id\":null}}' data-hydro-click-hmac=\"49e3ccada0fdbfbf6d5385d55b7ed5a5f2d424e1aa8f44cff963c99641e24b35\" data-view-component=\"true\" href=\"/tanersener/ffmpeg-kit\" style=\"max-width: 175px;\">\n",
       " <svg aria-hidden=\"true\" class=\"octicon octicon-repo color-icon-secondary mr-1\" data-view-component=\"true\" height=\"16\" version=\"1.1\" viewbox=\"0 0 16 16\" width=\"16\">\n",
       " <path d=\"M2 2.5A2.5 2.5 0 014.5 0h8.75a.75.75 0 01.75.75v12.5a.75.75 0 01-.75.75h-2.5a.75.75 0 110-1.5h1.75v-2h-8a1 1 0 00-.714 1.7.75.75 0 01-1.072 1.05A2.495 2.495 0 012 11.5v-9zm10.5-1V9h-8c-.356 0-.694.074-1 .208V2.5a1 1 0 011-1h8zM5 12.25v3.25a.25.25 0 00.4.2l1.45-1.087a.25.25 0 01.3 0L8.6 15.7a.25.25 0 00.4-.2v-3.25a.25.25 0 00-.25-.25h-3.5a.25.25 0 00-.25.25z\" fill-rule=\"evenodd\"></path>\n",
       " </svg>\n",
       "       ffmpeg-kit\n",
       " </a> </h1>\n",
       " <div class=\"f6 color-fg-muted mt-1\">\n",
       "       FFmpeg Kit for applications. Supports Android, Flutter, iOS, macOS, React Native and tvOS. Supersedes MobileFFmpeg, flutter_ffmpeg and react-native-ffmpeg.\n",
       "     </div>\n",
       " </article>\n",
       " </div>\n",
       " </div>,\n",
       " <div class=\"col-md-6\">\n",
       " <h1 class=\"h3 lh-condensed\">\n",
       " <a data-hydro-click='{\"event_type\":\"explore.click\",\"payload\":{\"click_context\":\"TRENDING_DEVELOPERS_PAGE\",\"click_target\":\"OWNER\",\"click_visual_representation\":\"TRENDING_DEVELOPER\",\"actor_id\":null,\"record_id\":2603405,\"originating_url\":\"https://github.com/trending/developers\",\"user_id\":null}}' data-hydro-click-hmac=\"3ea7b492f565bd71185624900f54b4cd4a187d3601ca59e9eb4347f851f9c487\" data-view-component=\"true\" href=\"/RicoSuter\">\n",
       "             Rico Suter\n",
       " </a> </h1>\n",
       " <p class=\"f4 text-normal mb-1\">\n",
       " <a class=\"Link--secondary\" data-hydro-click='{\"event_type\":\"explore.click\",\"payload\":{\"click_context\":\"TRENDING_DEVELOPERS_PAGE\",\"click_target\":\"OWNER\",\"click_visual_representation\":\"TRENDING_DEVELOPER\",\"actor_id\":null,\"record_id\":2603405,\"originating_url\":\"https://github.com/trending/developers\",\"user_id\":null}}' data-hydro-click-hmac=\"3ea7b492f565bd71185624900f54b4cd4a187d3601ca59e9eb4347f851f9c487\" data-view-component=\"true\" href=\"/RicoSuter\">\n",
       "               RicoSuter\n",
       " </a> </p>\n",
       " </div>,\n",
       " <div class=\"col-md-6\">\n",
       " <div class=\"mt-2 mb-3 my-md-0\">\n",
       " <article>\n",
       " <div class=\"f6 color-fg-muted text-uppercase mb-1\"><svg aria-hidden=\"true\" class=\"octicon octicon-flame color-text-orange-light mr-1\" data-view-component=\"true\" height=\"16\" version=\"1.1\" viewbox=\"0 0 16 16\" width=\"16\">\n",
       " <path d=\"M7.998 14.5c2.832 0 5-1.98 5-4.5 0-1.463-.68-2.19-1.879-3.383l-.036-.037c-1.013-1.008-2.3-2.29-2.834-4.434-.322.256-.63.579-.864.953-.432.696-.621 1.58-.046 2.73.473.947.67 2.284-.278 3.232-.61.61-1.545.84-2.403.633a2.788 2.788 0 01-1.436-.874A3.21 3.21 0 003 10c0 2.53 2.164 4.5 4.998 4.5zM9.533.753C9.496.34 9.16.009 8.77.146 7.035.75 4.34 3.187 5.997 6.5c.344.689.285 1.218.003 1.5-.419.419-1.54.487-2.04-.832-.173-.454-.659-.762-1.035-.454C2.036 7.44 1.5 8.702 1.5 10c0 3.512 2.998 6 6.498 6s6.5-2.5 6.5-6c0-2.137-1.128-3.26-2.312-4.438-1.19-1.184-2.436-2.425-2.653-4.81z\" fill-rule=\"evenodd\"></path>\n",
       " </svg>Popular repo</div>\n",
       " <h1 class=\"h4 lh-condensed\">\n",
       " <a class=\"css-truncate css-truncate-target\" data-ga-click=\"Explore, go to repository, location:trending developers\" data-hydro-click='{\"event_type\":\"explore.click\",\"payload\":{\"click_context\":\"TRENDING_DEVELOPERS_PAGE\",\"click_target\":\"REPOSITORY\",\"click_visual_representation\":\"REPOSITORY_NAME_HEADING\",\"actor_id\":null,\"record_id\":41822320,\"originating_url\":\"https://github.com/trending/developers\",\"user_id\":null}}' data-hydro-click-hmac=\"5706fa7cfe78ba7356733f75865118bec8ac79c762b5616b21a134e779b403f3\" data-view-component=\"true\" href=\"/RicoSuter/NSwag\" style=\"max-width: 175px;\">\n",
       " <svg aria-hidden=\"true\" class=\"octicon octicon-repo color-icon-secondary mr-1\" data-view-component=\"true\" height=\"16\" version=\"1.1\" viewbox=\"0 0 16 16\" width=\"16\">\n",
       " <path d=\"M2 2.5A2.5 2.5 0 014.5 0h8.75a.75.75 0 01.75.75v12.5a.75.75 0 01-.75.75h-2.5a.75.75 0 110-1.5h1.75v-2h-8a1 1 0 00-.714 1.7.75.75 0 01-1.072 1.05A2.495 2.495 0 012 11.5v-9zm10.5-1V9h-8c-.356 0-.694.074-1 .208V2.5a1 1 0 011-1h8zM5 12.25v3.25a.25.25 0 00.4.2l1.45-1.087a.25.25 0 01.3 0L8.6 15.7a.25.25 0 00.4-.2v-3.25a.25.25 0 00-.25-.25h-3.5a.25.25 0 00-.25.25z\" fill-rule=\"evenodd\"></path>\n",
       " </svg>\n",
       "       NSwag\n",
       " </a> </h1>\n",
       " <div class=\"f6 color-fg-muted mt-1\">\n",
       "       The Swagger/OpenAPI toolchain for .NET, ASP.NET Core and TypeScript. \n",
       "     </div>\n",
       " </article>\n",
       " </div>\n",
       " </div>,\n",
       " <div class=\"col-md-6\">\n",
       " <h1 class=\"h3 lh-condensed\">\n",
       " <a data-hydro-click='{\"event_type\":\"explore.click\",\"payload\":{\"click_context\":\"TRENDING_DEVELOPERS_PAGE\",\"click_target\":\"OWNER\",\"click_visual_representation\":\"TRENDING_DEVELOPER\",\"actor_id\":null,\"record_id\":663378,\"originating_url\":\"https://github.com/trending/developers\",\"user_id\":null}}' data-hydro-click-hmac=\"bda425adbb555b1e90466af8baa6ed649d3db0de1bc0cade46a6cc3c2352be4a\" data-view-component=\"true\" href=\"/jrfnl\">\n",
       "             Juliette\n",
       " </a> </h1>\n",
       " <p class=\"f4 text-normal mb-1\">\n",
       " <a class=\"Link--secondary\" data-hydro-click='{\"event_type\":\"explore.click\",\"payload\":{\"click_context\":\"TRENDING_DEVELOPERS_PAGE\",\"click_target\":\"OWNER\",\"click_visual_representation\":\"TRENDING_DEVELOPER\",\"actor_id\":null,\"record_id\":663378,\"originating_url\":\"https://github.com/trending/developers\",\"user_id\":null}}' data-hydro-click-hmac=\"bda425adbb555b1e90466af8baa6ed649d3db0de1bc0cade46a6cc3c2352be4a\" data-view-component=\"true\" href=\"/jrfnl\">\n",
       "               jrfnl\n",
       " </a> </p>\n",
       " </div>,\n",
       " <div class=\"col-md-6\">\n",
       " <div class=\"mt-2 mb-3 my-md-0\">\n",
       " <article>\n",
       " <div class=\"f6 color-fg-muted text-uppercase mb-1\"><svg aria-hidden=\"true\" class=\"octicon octicon-flame color-text-orange-light mr-1\" data-view-component=\"true\" height=\"16\" version=\"1.1\" viewbox=\"0 0 16 16\" width=\"16\">\n",
       " <path d=\"M7.998 14.5c2.832 0 5-1.98 5-4.5 0-1.463-.68-2.19-1.879-3.383l-.036-.037c-1.013-1.008-2.3-2.29-2.834-4.434-.322.256-.63.579-.864.953-.432.696-.621 1.58-.046 2.73.473.947.67 2.284-.278 3.232-.61.61-1.545.84-2.403.633a2.788 2.788 0 01-1.436-.874A3.21 3.21 0 003 10c0 2.53 2.164 4.5 4.998 4.5zM9.533.753C9.496.34 9.16.009 8.77.146 7.035.75 4.34 3.187 5.997 6.5c.344.689.285 1.218.003 1.5-.419.419-1.54.487-2.04-.832-.173-.454-.659-.762-1.035-.454C2.036 7.44 1.5 8.702 1.5 10c0 3.512 2.998 6 6.498 6s6.5-2.5 6.5-6c0-2.137-1.128-3.26-2.312-4.438-1.19-1.184-2.436-2.425-2.653-4.81z\" fill-rule=\"evenodd\"></path>\n",
       " </svg>Popular repo</div>\n",
       " <h1 class=\"h4 lh-condensed\">\n",
       " <a class=\"css-truncate css-truncate-target\" data-ga-click=\"Explore, go to repository, location:trending developers\" data-hydro-click='{\"event_type\":\"explore.click\",\"payload\":{\"click_context\":\"TRENDING_DEVELOPERS_PAGE\",\"click_target\":\"REPOSITORY\",\"click_visual_representation\":\"REPOSITORY_NAME_HEADING\",\"actor_id\":null,\"record_id\":11153008,\"originating_url\":\"https://github.com/trending/developers\",\"user_id\":null}}' data-hydro-click-hmac=\"3d8f4c6702309f4f0519da5a48350469e32e861ead06fdc66a1478d4eea8aa3b\" data-view-component=\"true\" href=\"/jrfnl/wp-hook-documentor\" style=\"max-width: 175px;\">\n",
       " <svg aria-hidden=\"true\" class=\"octicon octicon-repo color-icon-secondary mr-1\" data-view-component=\"true\" height=\"16\" version=\"1.1\" viewbox=\"0 0 16 16\" width=\"16\">\n",
       " <path d=\"M2 2.5A2.5 2.5 0 014.5 0h8.75a.75.75 0 01.75.75v12.5a.75.75 0 01-.75.75h-2.5a.75.75 0 110-1.5h1.75v-2h-8a1 1 0 00-.714 1.7.75.75 0 01-1.072 1.05A2.495 2.495 0 012 11.5v-9zm10.5-1V9h-8c-.356 0-.694.074-1 .208V2.5a1 1 0 011-1h8zM5 12.25v3.25a.25.25 0 00.4.2l1.45-1.087a.25.25 0 01.3 0L8.6 15.7a.25.25 0 00.4-.2v-3.25a.25.25 0 00-.25-.25h-3.5a.25.25 0 00-.25.25z\" fill-rule=\"evenodd\"></path>\n",
       " </svg>\n",
       "       wp-hook-documentor\n",
       " </a> </h1>\n",
       " <div class=\"f6 color-fg-muted mt-1\">\n",
       "       Application to document action and filters hook in WordPress plugins\n",
       "     </div>\n",
       " </article>\n",
       " </div>\n",
       " </div>,\n",
       " <div class=\"col-md-6\">\n",
       " <h1 class=\"h3 lh-condensed\">\n",
       " <a data-hydro-click='{\"event_type\":\"explore.click\",\"payload\":{\"click_context\":\"TRENDING_DEVELOPERS_PAGE\",\"click_target\":\"OWNER\",\"click_visual_representation\":\"TRENDING_DEVELOPER\",\"actor_id\":null,\"record_id\":1676321,\"originating_url\":\"https://github.com/trending/developers\",\"user_id\":null}}' data-hydro-click-hmac=\"4e35ec175d883daf91314b9c8965b51eb9a013e76ee45b0fc3e93e932090e8fb\" data-view-component=\"true\" href=\"/jamesmontemagno\">\n",
       "             James Montemagno\n",
       " </a> </h1>\n",
       " <p class=\"f4 text-normal mb-1\">\n",
       " <a class=\"Link--secondary\" data-hydro-click='{\"event_type\":\"explore.click\",\"payload\":{\"click_context\":\"TRENDING_DEVELOPERS_PAGE\",\"click_target\":\"OWNER\",\"click_visual_representation\":\"TRENDING_DEVELOPER\",\"actor_id\":null,\"record_id\":1676321,\"originating_url\":\"https://github.com/trending/developers\",\"user_id\":null}}' data-hydro-click-hmac=\"4e35ec175d883daf91314b9c8965b51eb9a013e76ee45b0fc3e93e932090e8fb\" data-view-component=\"true\" href=\"/jamesmontemagno\">\n",
       "               jamesmontemagno\n",
       " </a> </p>\n",
       " </div>,\n",
       " <div class=\"col-md-6\">\n",
       " <div class=\"mt-2 mb-3 my-md-0\">\n",
       " <article>\n",
       " <div class=\"f6 color-fg-muted text-uppercase mb-1\"><svg aria-hidden=\"true\" class=\"octicon octicon-flame color-text-orange-light mr-1\" data-view-component=\"true\" height=\"16\" version=\"1.1\" viewbox=\"0 0 16 16\" width=\"16\">\n",
       " <path d=\"M7.998 14.5c2.832 0 5-1.98 5-4.5 0-1.463-.68-2.19-1.879-3.383l-.036-.037c-1.013-1.008-2.3-2.29-2.834-4.434-.322.256-.63.579-.864.953-.432.696-.621 1.58-.046 2.73.473.947.67 2.284-.278 3.232-.61.61-1.545.84-2.403.633a2.788 2.788 0 01-1.436-.874A3.21 3.21 0 003 10c0 2.53 2.164 4.5 4.998 4.5zM9.533.753C9.496.34 9.16.009 8.77.146 7.035.75 4.34 3.187 5.997 6.5c.344.689.285 1.218.003 1.5-.419.419-1.54.487-2.04-.832-.173-.454-.659-.762-1.035-.454C2.036 7.44 1.5 8.702 1.5 10c0 3.512 2.998 6 6.498 6s6.5-2.5 6.5-6c0-2.137-1.128-3.26-2.312-4.438-1.19-1.184-2.436-2.425-2.653-4.81z\" fill-rule=\"evenodd\"></path>\n",
       " </svg>Popular repo</div>\n",
       " <h1 class=\"h4 lh-condensed\">\n",
       " <a class=\"css-truncate css-truncate-target\" data-ga-click=\"Explore, go to repository, location:trending developers\" data-hydro-click='{\"event_type\":\"explore.click\",\"payload\":{\"click_context\":\"TRENDING_DEVELOPERS_PAGE\",\"click_target\":\"REPOSITORY\",\"click_visual_representation\":\"REPOSITORY_NAME_HEADING\",\"actor_id\":null,\"record_id\":17682029,\"originating_url\":\"https://github.com/trending/developers\",\"user_id\":null}}' data-hydro-click-hmac=\"b2ffbadc83231400df4bfd869ad8bfa56b401f82054efe5ff260a92f813600d8\" data-view-component=\"true\" href=\"/jamesmontemagno/Xamarin.Plugins\" style=\"max-width: 175px;\">\n",
       " <svg aria-hidden=\"true\" class=\"octicon octicon-repo color-icon-secondary mr-1\" data-view-component=\"true\" height=\"16\" version=\"1.1\" viewbox=\"0 0 16 16\" width=\"16\">\n",
       " <path d=\"M2 2.5A2.5 2.5 0 014.5 0h8.75a.75.75 0 01.75.75v12.5a.75.75 0 01-.75.75h-2.5a.75.75 0 110-1.5h1.75v-2h-8a1 1 0 00-.714 1.7.75.75 0 01-1.072 1.05A2.495 2.495 0 012 11.5v-9zm10.5-1V9h-8c-.356 0-.694.074-1 .208V2.5a1 1 0 011-1h8zM5 12.25v3.25a.25.25 0 00.4.2l1.45-1.087a.25.25 0 01.3 0L8.6 15.7a.25.25 0 00.4-.2v-3.25a.25.25 0 00-.25-.25h-3.5a.25.25 0 00-.25.25z\" fill-rule=\"evenodd\"></path>\n",
       " </svg>\n",
       "       Xamarin.Plugins\n",
       " </a> </h1>\n",
       " <div class=\"f6 color-fg-muted mt-1\">\n",
       "       Cross-platform Native API Access from Shared Code!\n",
       "     </div>\n",
       " </article>\n",
       " </div>\n",
       " </div>,\n",
       " <div class=\"col-md-6\">\n",
       " <h1 class=\"h3 lh-condensed\">\n",
       " <a data-hydro-click='{\"event_type\":\"explore.click\",\"payload\":{\"click_context\":\"TRENDING_DEVELOPERS_PAGE\",\"click_target\":\"OWNER\",\"click_visual_representation\":\"TRENDING_DEVELOPER\",\"actor_id\":null,\"record_id\":220358,\"originating_url\":\"https://github.com/trending/developers\",\"user_id\":null}}' data-hydro-click-hmac=\"c08cc819d2f5c018a03d19efa4155d1281e536001c957c709810756a033754d7\" data-view-component=\"true\" href=\"/ankane\">\n",
       "             Andrew Kane\n",
       " </a> </h1>\n",
       " <p class=\"f4 text-normal mb-1\">\n",
       " <a class=\"Link--secondary\" data-hydro-click='{\"event_type\":\"explore.click\",\"payload\":{\"click_context\":\"TRENDING_DEVELOPERS_PAGE\",\"click_target\":\"OWNER\",\"click_visual_representation\":\"TRENDING_DEVELOPER\",\"actor_id\":null,\"record_id\":220358,\"originating_url\":\"https://github.com/trending/developers\",\"user_id\":null}}' data-hydro-click-hmac=\"c08cc819d2f5c018a03d19efa4155d1281e536001c957c709810756a033754d7\" data-view-component=\"true\" href=\"/ankane\">\n",
       "               ankane\n",
       " </a> </p>\n",
       " </div>,\n",
       " <div class=\"col-md-6\">\n",
       " <div class=\"mt-2 mb-3 my-md-0\">\n",
       " <article>\n",
       " <div class=\"f6 color-fg-muted text-uppercase mb-1\"><svg aria-hidden=\"true\" class=\"octicon octicon-flame color-text-orange-light mr-1\" data-view-component=\"true\" height=\"16\" version=\"1.1\" viewbox=\"0 0 16 16\" width=\"16\">\n",
       " <path d=\"M7.998 14.5c2.832 0 5-1.98 5-4.5 0-1.463-.68-2.19-1.879-3.383l-.036-.037c-1.013-1.008-2.3-2.29-2.834-4.434-.322.256-.63.579-.864.953-.432.696-.621 1.58-.046 2.73.473.947.67 2.284-.278 3.232-.61.61-1.545.84-2.403.633a2.788 2.788 0 01-1.436-.874A3.21 3.21 0 003 10c0 2.53 2.164 4.5 4.998 4.5zM9.533.753C9.496.34 9.16.009 8.77.146 7.035.75 4.34 3.187 5.997 6.5c.344.689.285 1.218.003 1.5-.419.419-1.54.487-2.04-.832-.173-.454-.659-.762-1.035-.454C2.036 7.44 1.5 8.702 1.5 10c0 3.512 2.998 6 6.498 6s6.5-2.5 6.5-6c0-2.137-1.128-3.26-2.312-4.438-1.19-1.184-2.436-2.425-2.653-4.81z\" fill-rule=\"evenodd\"></path>\n",
       " </svg>Popular repo</div>\n",
       " <h1 class=\"h4 lh-condensed\">\n",
       " <a class=\"css-truncate css-truncate-target\" data-ga-click=\"Explore, go to repository, location:trending developers\" data-hydro-click='{\"event_type\":\"explore.click\",\"payload\":{\"click_context\":\"TRENDING_DEVELOPERS_PAGE\",\"click_target\":\"REPOSITORY\",\"click_visual_representation\":\"REPOSITORY_NAME_HEADING\",\"actor_id\":null,\"record_id\":9906653,\"originating_url\":\"https://github.com/trending/developers\",\"user_id\":null}}' data-hydro-click-hmac=\"97050e201feb5a1fd0ddd6d10c5951259a05d12dffd2e645e4dd340a68e5e146\" data-view-component=\"true\" href=\"/ankane/chartkick\" style=\"max-width: 175px;\">\n",
       " <svg aria-hidden=\"true\" class=\"octicon octicon-repo color-icon-secondary mr-1\" data-view-component=\"true\" height=\"16\" version=\"1.1\" viewbox=\"0 0 16 16\" width=\"16\">\n",
       " <path d=\"M2 2.5A2.5 2.5 0 014.5 0h8.75a.75.75 0 01.75.75v12.5a.75.75 0 01-.75.75h-2.5a.75.75 0 110-1.5h1.75v-2h-8a1 1 0 00-.714 1.7.75.75 0 01-1.072 1.05A2.495 2.495 0 012 11.5v-9zm10.5-1V9h-8c-.356 0-.694.074-1 .208V2.5a1 1 0 011-1h8zM5 12.25v3.25a.25.25 0 00.4.2l1.45-1.087a.25.25 0 01.3 0L8.6 15.7a.25.25 0 00.4-.2v-3.25a.25.25 0 00-.25-.25h-3.5a.25.25 0 00-.25.25z\" fill-rule=\"evenodd\"></path>\n",
       " </svg>\n",
       "       chartkick\n",
       " </a> </h1>\n",
       " <div class=\"f6 color-fg-muted mt-1\">\n",
       "       Create beautiful JavaScript charts with one line of Ruby\n",
       "     </div>\n",
       " </article>\n",
       " </div>\n",
       " </div>,\n",
       " <div class=\"col-md-6\">\n",
       " <h1 class=\"h3 lh-condensed\">\n",
       " <a data-hydro-click='{\"event_type\":\"explore.click\",\"payload\":{\"click_context\":\"TRENDING_DEVELOPERS_PAGE\",\"click_target\":\"OWNER\",\"click_visual_representation\":\"TRENDING_DEVELOPER\",\"actor_id\":null,\"record_id\":611784,\"originating_url\":\"https://github.com/trending/developers\",\"user_id\":null}}' data-hydro-click-hmac=\"b999989829d6d6b3c7775133f2f4f3f80db5257fc4645539b086054a45ca141d\" data-view-component=\"true\" href=\"/iBotPeaches\">\n",
       "             Connor Tumbleson\n",
       " </a> </h1>\n",
       " <p class=\"f4 text-normal mb-1\">\n",
       " <a class=\"Link--secondary\" data-hydro-click='{\"event_type\":\"explore.click\",\"payload\":{\"click_context\":\"TRENDING_DEVELOPERS_PAGE\",\"click_target\":\"OWNER\",\"click_visual_representation\":\"TRENDING_DEVELOPER\",\"actor_id\":null,\"record_id\":611784,\"originating_url\":\"https://github.com/trending/developers\",\"user_id\":null}}' data-hydro-click-hmac=\"b999989829d6d6b3c7775133f2f4f3f80db5257fc4645539b086054a45ca141d\" data-view-component=\"true\" href=\"/iBotPeaches\">\n",
       "               iBotPeaches\n",
       " </a> </p>\n",
       " </div>,\n",
       " <div class=\"col-md-6\">\n",
       " <div class=\"mt-2 mb-3 my-md-0\">\n",
       " <article>\n",
       " <div class=\"f6 color-fg-muted text-uppercase mb-1\"><svg aria-hidden=\"true\" class=\"octicon octicon-flame color-text-orange-light mr-1\" data-view-component=\"true\" height=\"16\" version=\"1.1\" viewbox=\"0 0 16 16\" width=\"16\">\n",
       " <path d=\"M7.998 14.5c2.832 0 5-1.98 5-4.5 0-1.463-.68-2.19-1.879-3.383l-.036-.037c-1.013-1.008-2.3-2.29-2.834-4.434-.322.256-.63.579-.864.953-.432.696-.621 1.58-.046 2.73.473.947.67 2.284-.278 3.232-.61.61-1.545.84-2.403.633a2.788 2.788 0 01-1.436-.874A3.21 3.21 0 003 10c0 2.53 2.164 4.5 4.998 4.5zM9.533.753C9.496.34 9.16.009 8.77.146 7.035.75 4.34 3.187 5.997 6.5c.344.689.285 1.218.003 1.5-.419.419-1.54.487-2.04-.832-.173-.454-.659-.762-1.035-.454C2.036 7.44 1.5 8.702 1.5 10c0 3.512 2.998 6 6.498 6s6.5-2.5 6.5-6c0-2.137-1.128-3.26-2.312-4.438-1.19-1.184-2.436-2.425-2.653-4.81z\" fill-rule=\"evenodd\"></path>\n",
       " </svg>Popular repo</div>\n",
       " <h1 class=\"h4 lh-condensed\">\n",
       " <a class=\"css-truncate css-truncate-target\" data-ga-click=\"Explore, go to repository, location:trending developers\" data-hydro-click='{\"event_type\":\"explore.click\",\"payload\":{\"click_context\":\"TRENDING_DEVELOPERS_PAGE\",\"click_target\":\"REPOSITORY\",\"click_visual_representation\":\"REPOSITORY_NAME_HEADING\",\"actor_id\":null,\"record_id\":3766706,\"originating_url\":\"https://github.com/trending/developers\",\"user_id\":null}}' data-hydro-click-hmac=\"a7cf47fd236981ddece81cf2e5525fc9d1d1311f760bf0bab20ed818ac84a00f\" data-view-component=\"true\" href=\"/iBotPeaches/Apktool\" style=\"max-width: 175px;\">\n",
       " <svg aria-hidden=\"true\" class=\"octicon octicon-repo color-icon-secondary mr-1\" data-view-component=\"true\" height=\"16\" version=\"1.1\" viewbox=\"0 0 16 16\" width=\"16\">\n",
       " <path d=\"M2 2.5A2.5 2.5 0 014.5 0h8.75a.75.75 0 01.75.75v12.5a.75.75 0 01-.75.75h-2.5a.75.75 0 110-1.5h1.75v-2h-8a1 1 0 00-.714 1.7.75.75 0 01-1.072 1.05A2.495 2.495 0 012 11.5v-9zm10.5-1V9h-8c-.356 0-.694.074-1 .208V2.5a1 1 0 011-1h8zM5 12.25v3.25a.25.25 0 00.4.2l1.45-1.087a.25.25 0 01.3 0L8.6 15.7a.25.25 0 00.4-.2v-3.25a.25.25 0 00-.25-.25h-3.5a.25.25 0 00-.25.25z\" fill-rule=\"evenodd\"></path>\n",
       " </svg>\n",
       "       Apktool\n",
       " </a> </h1>\n",
       " <div class=\"f6 color-fg-muted mt-1\">\n",
       "       A tool for reverse engineering Android apk files\n",
       "     </div>\n",
       " </article>\n",
       " </div>\n",
       " </div>,\n",
       " <div class=\"col-md-6\">\n",
       " <h1 class=\"h3 lh-condensed\">\n",
       " <a data-hydro-click='{\"event_type\":\"explore.click\",\"payload\":{\"click_context\":\"TRENDING_DEVELOPERS_PAGE\",\"click_target\":\"OWNER\",\"click_visual_representation\":\"TRENDING_DEVELOPER\",\"actor_id\":null,\"record_id\":183678,\"originating_url\":\"https://github.com/trending/developers\",\"user_id\":null}}' data-hydro-click-hmac=\"1240e4541c31148324cb6d4608e0101bfb7ff3d3821e4003f0c99bba913baa34\" data-view-component=\"true\" href=\"/Seldaek\">\n",
       "             Jordi Boggiano\n",
       " </a> </h1>\n",
       " <p class=\"f4 text-normal mb-1\">\n",
       " <a class=\"Link--secondary\" data-hydro-click='{\"event_type\":\"explore.click\",\"payload\":{\"click_context\":\"TRENDING_DEVELOPERS_PAGE\",\"click_target\":\"OWNER\",\"click_visual_representation\":\"TRENDING_DEVELOPER\",\"actor_id\":null,\"record_id\":183678,\"originating_url\":\"https://github.com/trending/developers\",\"user_id\":null}}' data-hydro-click-hmac=\"1240e4541c31148324cb6d4608e0101bfb7ff3d3821e4003f0c99bba913baa34\" data-view-component=\"true\" href=\"/Seldaek\">\n",
       "               Seldaek\n",
       " </a> </p>\n",
       " </div>,\n",
       " <div class=\"col-md-6\">\n",
       " <div class=\"mt-2 mb-3 my-md-0\">\n",
       " <article>\n",
       " <div class=\"f6 color-fg-muted text-uppercase mb-1\"><svg aria-hidden=\"true\" class=\"octicon octicon-flame color-text-orange-light mr-1\" data-view-component=\"true\" height=\"16\" version=\"1.1\" viewbox=\"0 0 16 16\" width=\"16\">\n",
       " <path d=\"M7.998 14.5c2.832 0 5-1.98 5-4.5 0-1.463-.68-2.19-1.879-3.383l-.036-.037c-1.013-1.008-2.3-2.29-2.834-4.434-.322.256-.63.579-.864.953-.432.696-.621 1.58-.046 2.73.473.947.67 2.284-.278 3.232-.61.61-1.545.84-2.403.633a2.788 2.788 0 01-1.436-.874A3.21 3.21 0 003 10c0 2.53 2.164 4.5 4.998 4.5zM9.533.753C9.496.34 9.16.009 8.77.146 7.035.75 4.34 3.187 5.997 6.5c.344.689.285 1.218.003 1.5-.419.419-1.54.487-2.04-.832-.173-.454-.659-.762-1.035-.454C2.036 7.44 1.5 8.702 1.5 10c0 3.512 2.998 6 6.498 6s6.5-2.5 6.5-6c0-2.137-1.128-3.26-2.312-4.438-1.19-1.184-2.436-2.425-2.653-4.81z\" fill-rule=\"evenodd\"></path>\n",
       " </svg>Popular repo</div>\n",
       " <h1 class=\"h4 lh-condensed\">\n",
       " <a class=\"css-truncate css-truncate-target\" data-ga-click=\"Explore, go to repository, location:trending developers\" data-hydro-click='{\"event_type\":\"explore.click\",\"payload\":{\"click_context\":\"TRENDING_DEVELOPERS_PAGE\",\"click_target\":\"REPOSITORY\",\"click_visual_representation\":\"REPOSITORY_NAME_HEADING\",\"actor_id\":null,\"record_id\":1376664,\"originating_url\":\"https://github.com/trending/developers\",\"user_id\":null}}' data-hydro-click-hmac=\"9a79422ffc5808f64e32bd2df2ae1ff3541fba7d3ffb56681dbb8758e08945da\" data-view-component=\"true\" href=\"/Seldaek/monolog\" style=\"max-width: 175px;\">\n",
       " <svg aria-hidden=\"true\" class=\"octicon octicon-repo color-icon-secondary mr-1\" data-view-component=\"true\" height=\"16\" version=\"1.1\" viewbox=\"0 0 16 16\" width=\"16\">\n",
       " <path d=\"M2 2.5A2.5 2.5 0 014.5 0h8.75a.75.75 0 01.75.75v12.5a.75.75 0 01-.75.75h-2.5a.75.75 0 110-1.5h1.75v-2h-8a1 1 0 00-.714 1.7.75.75 0 01-1.072 1.05A2.495 2.495 0 012 11.5v-9zm10.5-1V9h-8c-.356 0-.694.074-1 .208V2.5a1 1 0 011-1h8zM5 12.25v3.25a.25.25 0 00.4.2l1.45-1.087a.25.25 0 01.3 0L8.6 15.7a.25.25 0 00.4-.2v-3.25a.25.25 0 00-.25-.25h-3.5a.25.25 0 00-.25.25z\" fill-rule=\"evenodd\"></path>\n",
       " </svg>\n",
       "       monolog\n",
       " </a> </h1>\n",
       " <div class=\"f6 color-fg-muted mt-1\">\n",
       "       Sends your logs to files, sockets, inboxes, databases and various web services\n",
       "     </div>\n",
       " </article>\n",
       " </div>\n",
       " </div>,\n",
       " <div class=\"col-md-6\">\n",
       " <h1 class=\"h3 lh-condensed\">\n",
       " <a data-hydro-click='{\"event_type\":\"explore.click\",\"payload\":{\"click_context\":\"TRENDING_DEVELOPERS_PAGE\",\"click_target\":\"OWNER\",\"click_visual_representation\":\"TRENDING_DEVELOPER\",\"actor_id\":null,\"record_id\":287584,\"originating_url\":\"https://github.com/trending/developers\",\"user_id\":null}}' data-hydro-click-hmac=\"c561c6c192a7e7ee1a0a1569191eeb68ef71694b05c7bcd1f20ff8567b591bb0\" data-view-component=\"true\" href=\"/radeksimko\">\n",
       "             Radek Simko\n",
       " </a> </h1>\n",
       " <p class=\"f4 text-normal mb-1\">\n",
       " <a class=\"Link--secondary\" data-hydro-click='{\"event_type\":\"explore.click\",\"payload\":{\"click_context\":\"TRENDING_DEVELOPERS_PAGE\",\"click_target\":\"OWNER\",\"click_visual_representation\":\"TRENDING_DEVELOPER\",\"actor_id\":null,\"record_id\":287584,\"originating_url\":\"https://github.com/trending/developers\",\"user_id\":null}}' data-hydro-click-hmac=\"c561c6c192a7e7ee1a0a1569191eeb68ef71694b05c7bcd1f20ff8567b591bb0\" data-view-component=\"true\" href=\"/radeksimko\">\n",
       "               radeksimko\n",
       " </a> </p>\n",
       " </div>,\n",
       " <div class=\"col-md-6\">\n",
       " <div class=\"mt-2 mb-3 my-md-0\">\n",
       " <article>\n",
       " <div class=\"f6 color-fg-muted text-uppercase mb-1\"><svg aria-hidden=\"true\" class=\"octicon octicon-flame color-text-orange-light mr-1\" data-view-component=\"true\" height=\"16\" version=\"1.1\" viewbox=\"0 0 16 16\" width=\"16\">\n",
       " <path d=\"M7.998 14.5c2.832 0 5-1.98 5-4.5 0-1.463-.68-2.19-1.879-3.383l-.036-.037c-1.013-1.008-2.3-2.29-2.834-4.434-.322.256-.63.579-.864.953-.432.696-.621 1.58-.046 2.73.473.947.67 2.284-.278 3.232-.61.61-1.545.84-2.403.633a2.788 2.788 0 01-1.436-.874A3.21 3.21 0 003 10c0 2.53 2.164 4.5 4.998 4.5zM9.533.753C9.496.34 9.16.009 8.77.146 7.035.75 4.34 3.187 5.997 6.5c.344.689.285 1.218.003 1.5-.419.419-1.54.487-2.04-.832-.173-.454-.659-.762-1.035-.454C2.036 7.44 1.5 8.702 1.5 10c0 3.512 2.998 6 6.498 6s6.5-2.5 6.5-6c0-2.137-1.128-3.26-2.312-4.438-1.19-1.184-2.436-2.425-2.653-4.81z\" fill-rule=\"evenodd\"></path>\n",
       " </svg>Popular repo</div>\n",
       " <h1 class=\"h4 lh-condensed\">\n",
       " <a class=\"css-truncate css-truncate-target\" data-ga-click=\"Explore, go to repository, location:trending developers\" data-hydro-click='{\"event_type\":\"explore.click\",\"payload\":{\"click_context\":\"TRENDING_DEVELOPERS_PAGE\",\"click_target\":\"REPOSITORY\",\"click_visual_representation\":\"REPOSITORY_NAME_HEADING\",\"actor_id\":null,\"record_id\":417568654,\"originating_url\":\"https://github.com/trending/developers\",\"user_id\":null}}' data-hydro-click-hmac=\"ca780670694d1e3b53667da18e5b9eeff7816ea742f939fd8fbcd27803f0b141\" data-view-component=\"true\" href=\"/radeksimko/vscode\" style=\"max-width: 175px;\">\n",
       " <svg aria-hidden=\"true\" class=\"octicon octicon-repo-forked color-icon-secondary mr-1\" data-view-component=\"true\" height=\"16\" version=\"1.1\" viewbox=\"0 0 16 16\" width=\"16\">\n",
       " <path d=\"M5 3.25a.75.75 0 11-1.5 0 .75.75 0 011.5 0zm0 2.122a2.25 2.25 0 10-1.5 0v.878A2.25 2.25 0 005.75 8.5h1.5v2.128a2.251 2.251 0 101.5 0V8.5h1.5a2.25 2.25 0 002.25-2.25v-.878a2.25 2.25 0 10-1.5 0v.878a.75.75 0 01-.75.75h-4.5A.75.75 0 015 6.25v-.878zm3.75 7.378a.75.75 0 11-1.5 0 .75.75 0 011.5 0zm3-8.75a.75.75 0 100-1.5.75.75 0 000 1.5z\" fill-rule=\"evenodd\"></path>\n",
       " </svg>\n",
       "       vscode\n",
       " </a> </h1>\n",
       " <div class=\"f6 color-fg-muted mt-1\">\n",
       "       Visual Studio Code\n",
       "     </div>\n",
       " </article>\n",
       " </div>\n",
       " </div>,\n",
       " <div class=\"col-md-6\">\n",
       " <h1 class=\"h3 lh-condensed\">\n",
       " <a data-hydro-click='{\"event_type\":\"explore.click\",\"payload\":{\"click_context\":\"TRENDING_DEVELOPERS_PAGE\",\"click_target\":\"OWNER\",\"click_visual_representation\":\"TRENDING_DEVELOPER\",\"actor_id\":null,\"record_id\":3576549,\"originating_url\":\"https://github.com/trending/developers\",\"user_id\":null}}' data-hydro-click-hmac=\"c4f012f89a25bfba243ff427cf25b6724d9fb822a30afc52fc3dbe4db5e5dd2f\" data-view-component=\"true\" href=\"/mvdan\">\n",
       "             Daniel Martí\n",
       " </a> </h1>\n",
       " <p class=\"f4 text-normal mb-1\">\n",
       " <a class=\"Link--secondary\" data-hydro-click='{\"event_type\":\"explore.click\",\"payload\":{\"click_context\":\"TRENDING_DEVELOPERS_PAGE\",\"click_target\":\"OWNER\",\"click_visual_representation\":\"TRENDING_DEVELOPER\",\"actor_id\":null,\"record_id\":3576549,\"originating_url\":\"https://github.com/trending/developers\",\"user_id\":null}}' data-hydro-click-hmac=\"c4f012f89a25bfba243ff427cf25b6724d9fb822a30afc52fc3dbe4db5e5dd2f\" data-view-component=\"true\" href=\"/mvdan\">\n",
       "               mvdan\n",
       " </a> </p>\n",
       " </div>,\n",
       " <div class=\"col-md-6\">\n",
       " <div class=\"mt-2 mb-3 my-md-0\">\n",
       " <article>\n",
       " <div class=\"f6 color-fg-muted text-uppercase mb-1\"><svg aria-hidden=\"true\" class=\"octicon octicon-flame color-text-orange-light mr-1\" data-view-component=\"true\" height=\"16\" version=\"1.1\" viewbox=\"0 0 16 16\" width=\"16\">\n",
       " <path d=\"M7.998 14.5c2.832 0 5-1.98 5-4.5 0-1.463-.68-2.19-1.879-3.383l-.036-.037c-1.013-1.008-2.3-2.29-2.834-4.434-.322.256-.63.579-.864.953-.432.696-.621 1.58-.046 2.73.473.947.67 2.284-.278 3.232-.61.61-1.545.84-2.403.633a2.788 2.788 0 01-1.436-.874A3.21 3.21 0 003 10c0 2.53 2.164 4.5 4.998 4.5zM9.533.753C9.496.34 9.16.009 8.77.146 7.035.75 4.34 3.187 5.997 6.5c.344.689.285 1.218.003 1.5-.419.419-1.54.487-2.04-.832-.173-.454-.659-.762-1.035-.454C2.036 7.44 1.5 8.702 1.5 10c0 3.512 2.998 6 6.498 6s6.5-2.5 6.5-6c0-2.137-1.128-3.26-2.312-4.438-1.19-1.184-2.436-2.425-2.653-4.81z\" fill-rule=\"evenodd\"></path>\n",
       " </svg>Popular repo</div>\n",
       " <h1 class=\"h4 lh-condensed\">\n",
       " <a class=\"css-truncate css-truncate-target\" data-ga-click=\"Explore, go to repository, location:trending developers\" data-hydro-click='{\"event_type\":\"explore.click\",\"payload\":{\"click_context\":\"TRENDING_DEVELOPERS_PAGE\",\"click_target\":\"REPOSITORY\",\"click_visual_representation\":\"REPOSITORY_NAME_HEADING\",\"actor_id\":null,\"record_id\":178628673,\"originating_url\":\"https://github.com/trending/developers\",\"user_id\":null}}' data-hydro-click-hmac=\"8bd20f4c489ce6088f50c6f9294142ecd89180efa9ee797c98f2530ea3184c1c\" data-view-component=\"true\" href=\"/mvdan/gofumpt\" style=\"max-width: 175px;\">\n",
       " <svg aria-hidden=\"true\" class=\"octicon octicon-repo color-icon-secondary mr-1\" data-view-component=\"true\" height=\"16\" version=\"1.1\" viewbox=\"0 0 16 16\" width=\"16\">\n",
       " <path d=\"M2 2.5A2.5 2.5 0 014.5 0h8.75a.75.75 0 01.75.75v12.5a.75.75 0 01-.75.75h-2.5a.75.75 0 110-1.5h1.75v-2h-8a1 1 0 00-.714 1.7.75.75 0 01-1.072 1.05A2.495 2.495 0 012 11.5v-9zm10.5-1V9h-8c-.356 0-.694.074-1 .208V2.5a1 1 0 011-1h8zM5 12.25v3.25a.25.25 0 00.4.2l1.45-1.087a.25.25 0 01.3 0L8.6 15.7a.25.25 0 00.4-.2v-3.25a.25.25 0 00-.25-.25h-3.5a.25.25 0 00-.25.25z\" fill-rule=\"evenodd\"></path>\n",
       " </svg>\n",
       "       gofumpt\n",
       " </a> </h1>\n",
       " <div class=\"f6 color-fg-muted mt-1\">\n",
       "       A stricter gofmt\n",
       "     </div>\n",
       " </article>\n",
       " </div>\n",
       " </div>,\n",
       " <div class=\"col-md-6\">\n",
       " <h1 class=\"h3 lh-condensed\">\n",
       " <a data-hydro-click='{\"event_type\":\"explore.click\",\"payload\":{\"click_context\":\"TRENDING_DEVELOPERS_PAGE\",\"click_target\":\"OWNER\",\"click_visual_representation\":\"TRENDING_DEVELOPER\",\"actor_id\":null,\"record_id\":743706,\"originating_url\":\"https://github.com/trending/developers\",\"user_id\":null}}' data-hydro-click-hmac=\"6e3df7df47d58dbae4690f28de6e9c916d684c92a17bec6e16785aa90e9099cf\" data-view-component=\"true\" href=\"/sksamuel\">\n",
       "             Sam Sam\n",
       " </a> </h1>\n",
       " <p class=\"f4 text-normal mb-1\">\n",
       " <a class=\"Link--secondary\" data-hydro-click='{\"event_type\":\"explore.click\",\"payload\":{\"click_context\":\"TRENDING_DEVELOPERS_PAGE\",\"click_target\":\"OWNER\",\"click_visual_representation\":\"TRENDING_DEVELOPER\",\"actor_id\":null,\"record_id\":743706,\"originating_url\":\"https://github.com/trending/developers\",\"user_id\":null}}' data-hydro-click-hmac=\"6e3df7df47d58dbae4690f28de6e9c916d684c92a17bec6e16785aa90e9099cf\" data-view-component=\"true\" href=\"/sksamuel\">\n",
       "               sksamuel\n",
       " </a> </p>\n",
       " </div>,\n",
       " <div class=\"col-md-6\">\n",
       " <div class=\"mt-2 mb-3 my-md-0\">\n",
       " <article>\n",
       " <div class=\"f6 color-fg-muted text-uppercase mb-1\"><svg aria-hidden=\"true\" class=\"octicon octicon-flame color-text-orange-light mr-1\" data-view-component=\"true\" height=\"16\" version=\"1.1\" viewbox=\"0 0 16 16\" width=\"16\">\n",
       " <path d=\"M7.998 14.5c2.832 0 5-1.98 5-4.5 0-1.463-.68-2.19-1.879-3.383l-.036-.037c-1.013-1.008-2.3-2.29-2.834-4.434-.322.256-.63.579-.864.953-.432.696-.621 1.58-.046 2.73.473.947.67 2.284-.278 3.232-.61.61-1.545.84-2.403.633a2.788 2.788 0 01-1.436-.874A3.21 3.21 0 003 10c0 2.53 2.164 4.5 4.998 4.5zM9.533.753C9.496.34 9.16.009 8.77.146 7.035.75 4.34 3.187 5.997 6.5c.344.689.285 1.218.003 1.5-.419.419-1.54.487-2.04-.832-.173-.454-.659-.762-1.035-.454C2.036 7.44 1.5 8.702 1.5 10c0 3.512 2.998 6 6.498 6s6.5-2.5 6.5-6c0-2.137-1.128-3.26-2.312-4.438-1.19-1.184-2.436-2.425-2.653-4.81z\" fill-rule=\"evenodd\"></path>\n",
       " </svg>Popular repo</div>\n",
       " <h1 class=\"h4 lh-condensed\">\n",
       " <a class=\"css-truncate css-truncate-target\" data-ga-click=\"Explore, go to repository, location:trending developers\" data-hydro-click='{\"event_type\":\"explore.click\",\"payload\":{\"click_context\":\"TRENDING_DEVELOPERS_PAGE\",\"click_target\":\"REPOSITORY\",\"click_visual_representation\":\"REPOSITORY_NAME_HEADING\",\"actor_id\":null,\"record_id\":42593679,\"originating_url\":\"https://github.com/trending/developers\",\"user_id\":null}}' data-hydro-click-hmac=\"073fc77404b82e638ac31d3fc649c08bb3f54b348740b2e6b7319c902a6e87eb\" data-view-component=\"true\" href=\"/sksamuel/avro4s\" style=\"max-width: 175px;\">\n",
       " <svg aria-hidden=\"true\" class=\"octicon octicon-repo color-icon-secondary mr-1\" data-view-component=\"true\" height=\"16\" version=\"1.1\" viewbox=\"0 0 16 16\" width=\"16\">\n",
       " <path d=\"M2 2.5A2.5 2.5 0 014.5 0h8.75a.75.75 0 01.75.75v12.5a.75.75 0 01-.75.75h-2.5a.75.75 0 110-1.5h1.75v-2h-8a1 1 0 00-.714 1.7.75.75 0 01-1.072 1.05A2.495 2.495 0 012 11.5v-9zm10.5-1V9h-8c-.356 0-.694.074-1 .208V2.5a1 1 0 011-1h8zM5 12.25v3.25a.25.25 0 00.4.2l1.45-1.087a.25.25 0 01.3 0L8.6 15.7a.25.25 0 00.4-.2v-3.25a.25.25 0 00-.25-.25h-3.5a.25.25 0 00-.25.25z\" fill-rule=\"evenodd\"></path>\n",
       " </svg>\n",
       "       avro4s\n",
       " </a> </h1>\n",
       " <div class=\"f6 color-fg-muted mt-1\">\n",
       "       Avro schema generation and serialization / deserialization for Scala\n",
       "     </div>\n",
       " </article>\n",
       " </div>\n",
       " </div>,\n",
       " <div class=\"col-md-6\">\n",
       " <h1 class=\"h3 lh-condensed\">\n",
       " <a data-hydro-click='{\"event_type\":\"explore.click\",\"payload\":{\"click_context\":\"TRENDING_DEVELOPERS_PAGE\",\"click_target\":\"OWNER\",\"click_visual_representation\":\"TRENDING_DEVELOPER\",\"actor_id\":null,\"record_id\":2466701,\"originating_url\":\"https://github.com/trending/developers\",\"user_id\":null}}' data-hydro-click-hmac=\"e3c4cac3ecc85941b6062b2d9b5262816da8e7c2dcda839bbc918a26922b369c\" data-view-component=\"true\" href=\"/JohnSundell\">\n",
       "             John Sundell\n",
       " </a> </h1>\n",
       " <p class=\"f4 text-normal mb-1\">\n",
       " <a class=\"Link--secondary\" data-hydro-click='{\"event_type\":\"explore.click\",\"payload\":{\"click_context\":\"TRENDING_DEVELOPERS_PAGE\",\"click_target\":\"OWNER\",\"click_visual_representation\":\"TRENDING_DEVELOPER\",\"actor_id\":null,\"record_id\":2466701,\"originating_url\":\"https://github.com/trending/developers\",\"user_id\":null}}' data-hydro-click-hmac=\"e3c4cac3ecc85941b6062b2d9b5262816da8e7c2dcda839bbc918a26922b369c\" data-view-component=\"true\" href=\"/JohnSundell\">\n",
       "               JohnSundell\n",
       " </a> </p>\n",
       " </div>,\n",
       " <div class=\"col-md-6\">\n",
       " <div class=\"mt-2 mb-3 my-md-0\">\n",
       " <article>\n",
       " <div class=\"f6 color-fg-muted text-uppercase mb-1\"><svg aria-hidden=\"true\" class=\"octicon octicon-flame color-text-orange-light mr-1\" data-view-component=\"true\" height=\"16\" version=\"1.1\" viewbox=\"0 0 16 16\" width=\"16\">\n",
       " <path d=\"M7.998 14.5c2.832 0 5-1.98 5-4.5 0-1.463-.68-2.19-1.879-3.383l-.036-.037c-1.013-1.008-2.3-2.29-2.834-4.434-.322.256-.63.579-.864.953-.432.696-.621 1.58-.046 2.73.473.947.67 2.284-.278 3.232-.61.61-1.545.84-2.403.633a2.788 2.788 0 01-1.436-.874A3.21 3.21 0 003 10c0 2.53 2.164 4.5 4.998 4.5zM9.533.753C9.496.34 9.16.009 8.77.146 7.035.75 4.34 3.187 5.997 6.5c.344.689.285 1.218.003 1.5-.419.419-1.54.487-2.04-.832-.173-.454-.659-.762-1.035-.454C2.036 7.44 1.5 8.702 1.5 10c0 3.512 2.998 6 6.498 6s6.5-2.5 6.5-6c0-2.137-1.128-3.26-2.312-4.438-1.19-1.184-2.436-2.425-2.653-4.81z\" fill-rule=\"evenodd\"></path>\n",
       " </svg>Popular repo</div>\n",
       " <h1 class=\"h4 lh-condensed\">\n",
       " <a class=\"css-truncate css-truncate-target\" data-ga-click=\"Explore, go to repository, location:trending developers\" data-hydro-click='{\"event_type\":\"explore.click\",\"payload\":{\"click_context\":\"TRENDING_DEVELOPERS_PAGE\",\"click_target\":\"REPOSITORY\",\"click_visual_representation\":\"REPOSITORY_NAME_HEADING\",\"actor_id\":null,\"record_id\":425786534,\"originating_url\":\"https://github.com/trending/developers\",\"user_id\":null}}' data-hydro-click-hmac=\"64209163c08b2cdabe5ab5fe7a1d889adb7b53f9fd870f0c6fa0b99538a09373\" data-view-component=\"true\" href=\"/JohnSundell/CollectionConcurrencyKit\" style=\"max-width: 175px;\">\n",
       " <svg aria-hidden=\"true\" class=\"octicon octicon-repo color-icon-secondary mr-1\" data-view-component=\"true\" height=\"16\" version=\"1.1\" viewbox=\"0 0 16 16\" width=\"16\">\n",
       " <path d=\"M2 2.5A2.5 2.5 0 014.5 0h8.75a.75.75 0 01.75.75v12.5a.75.75 0 01-.75.75h-2.5a.75.75 0 110-1.5h1.75v-2h-8a1 1 0 00-.714 1.7.75.75 0 01-1.072 1.05A2.495 2.495 0 012 11.5v-9zm10.5-1V9h-8c-.356 0-.694.074-1 .208V2.5a1 1 0 011-1h8zM5 12.25v3.25a.25.25 0 00.4.2l1.45-1.087a.25.25 0 01.3 0L8.6 15.7a.25.25 0 00.4-.2v-3.25a.25.25 0 00-.25-.25h-3.5a.25.25 0 00-.25.25z\" fill-rule=\"evenodd\"></path>\n",
       " </svg>\n",
       "       CollectionConcurrencyKit\n",
       " </a> </h1>\n",
       " <div class=\"f6 color-fg-muted mt-1\">\n",
       "       Async and concurrent versions of Swift’s forEach, map, flatMap, and compactMap APIs.\n",
       "     </div>\n",
       " </article>\n",
       " </div>\n",
       " </div>,\n",
       " <div class=\"col-md-6\">\n",
       " <h1 class=\"h3 lh-condensed\">\n",
       " <a data-hydro-click='{\"event_type\":\"explore.click\",\"payload\":{\"click_context\":\"TRENDING_DEVELOPERS_PAGE\",\"click_target\":\"OWNER\",\"click_visual_representation\":\"TRENDING_DEVELOPER\",\"actor_id\":null,\"record_id\":194609,\"originating_url\":\"https://github.com/trending/developers\",\"user_id\":null}}' data-hydro-click-hmac=\"d5bd8ccee32668c248840c639c9eae5b40794c10bced4e145a5c1aab740793ee\" data-view-component=\"true\" href=\"/bcoe\">\n",
       "             Benjamin E. Coe\n",
       " </a> </h1>\n",
       " <p class=\"f4 text-normal mb-1\">\n",
       " <a class=\"Link--secondary\" data-hydro-click='{\"event_type\":\"explore.click\",\"payload\":{\"click_context\":\"TRENDING_DEVELOPERS_PAGE\",\"click_target\":\"OWNER\",\"click_visual_representation\":\"TRENDING_DEVELOPER\",\"actor_id\":null,\"record_id\":194609,\"originating_url\":\"https://github.com/trending/developers\",\"user_id\":null}}' data-hydro-click-hmac=\"d5bd8ccee32668c248840c639c9eae5b40794c10bced4e145a5c1aab740793ee\" data-view-component=\"true\" href=\"/bcoe\">\n",
       "               bcoe\n",
       " </a> </p>\n",
       " </div>,\n",
       " <div class=\"col-md-6\">\n",
       " <div class=\"mt-2 mb-3 my-md-0\">\n",
       " <article>\n",
       " <div class=\"f6 color-fg-muted text-uppercase mb-1\"><svg aria-hidden=\"true\" class=\"octicon octicon-flame color-text-orange-light mr-1\" data-view-component=\"true\" height=\"16\" version=\"1.1\" viewbox=\"0 0 16 16\" width=\"16\">\n",
       " <path d=\"M7.998 14.5c2.832 0 5-1.98 5-4.5 0-1.463-.68-2.19-1.879-3.383l-.036-.037c-1.013-1.008-2.3-2.29-2.834-4.434-.322.256-.63.579-.864.953-.432.696-.621 1.58-.046 2.73.473.947.67 2.284-.278 3.232-.61.61-1.545.84-2.403.633a2.788 2.788 0 01-1.436-.874A3.21 3.21 0 003 10c0 2.53 2.164 4.5 4.998 4.5zM9.533.753C9.496.34 9.16.009 8.77.146 7.035.75 4.34 3.187 5.997 6.5c.344.689.285 1.218.003 1.5-.419.419-1.54.487-2.04-.832-.173-.454-.659-.762-1.035-.454C2.036 7.44 1.5 8.702 1.5 10c0 3.512 2.998 6 6.498 6s6.5-2.5 6.5-6c0-2.137-1.128-3.26-2.312-4.438-1.19-1.184-2.436-2.425-2.653-4.81z\" fill-rule=\"evenodd\"></path>\n",
       " </svg>Popular repo</div>\n",
       " <h1 class=\"h4 lh-condensed\">\n",
       " <a class=\"css-truncate css-truncate-target\" data-ga-click=\"Explore, go to repository, location:trending developers\" data-hydro-click='{\"event_type\":\"explore.click\",\"payload\":{\"click_context\":\"TRENDING_DEVELOPERS_PAGE\",\"click_target\":\"REPOSITORY\",\"click_visual_representation\":\"REPOSITORY_NAME_HEADING\",\"actor_id\":null,\"record_id\":108371904,\"originating_url\":\"https://github.com/trending/developers\",\"user_id\":null}}' data-hydro-click-hmac=\"9af8cf8b61ee10b946edbf8a273312165cef7a0e1ce70ead4c56abdc8bec228b\" data-view-component=\"true\" href=\"/bcoe/c8\" style=\"max-width: 175px;\">\n",
       " <svg aria-hidden=\"true\" class=\"octicon octicon-repo color-icon-secondary mr-1\" data-view-component=\"true\" height=\"16\" version=\"1.1\" viewbox=\"0 0 16 16\" width=\"16\">\n",
       " <path d=\"M2 2.5A2.5 2.5 0 014.5 0h8.75a.75.75 0 01.75.75v12.5a.75.75 0 01-.75.75h-2.5a.75.75 0 110-1.5h1.75v-2h-8a1 1 0 00-.714 1.7.75.75 0 01-1.072 1.05A2.495 2.495 0 012 11.5v-9zm10.5-1V9h-8c-.356 0-.694.074-1 .208V2.5a1 1 0 011-1h8zM5 12.25v3.25a.25.25 0 00.4.2l1.45-1.087a.25.25 0 01.3 0L8.6 15.7a.25.25 0 00.4-.2v-3.25a.25.25 0 00-.25-.25h-3.5a.25.25 0 00-.25.25z\" fill-rule=\"evenodd\"></path>\n",
       " </svg>\n",
       "       c8\n",
       " </a> </h1>\n",
       " <div class=\"f6 color-fg-muted mt-1\">\n",
       "       output coverage reports using Node.js' built in coverage\n",
       "     </div>\n",
       " </article>\n",
       " </div>\n",
       " </div>,\n",
       " <div class=\"col-md-6\">\n",
       " <h1 class=\"h3 lh-condensed\">\n",
       " <a data-hydro-click='{\"event_type\":\"explore.click\",\"payload\":{\"click_context\":\"TRENDING_DEVELOPERS_PAGE\",\"click_target\":\"OWNER\",\"click_visual_representation\":\"TRENDING_DEVELOPER\",\"actor_id\":null,\"record_id\":3468483,\"originating_url\":\"https://github.com/trending/developers\",\"user_id\":null}}' data-hydro-click-hmac=\"98cdd9665b4a057f1c0d0ac0001022c8a7cb0b3a21e7bb43c1dba4eeac8c28fc\" data-view-component=\"true\" href=\"/Brooooooklyn\">\n",
       "             LongYinan\n",
       " </a> </h1>\n",
       " <p class=\"f4 text-normal mb-1\">\n",
       " <a class=\"Link--secondary\" data-hydro-click='{\"event_type\":\"explore.click\",\"payload\":{\"click_context\":\"TRENDING_DEVELOPERS_PAGE\",\"click_target\":\"OWNER\",\"click_visual_representation\":\"TRENDING_DEVELOPER\",\"actor_id\":null,\"record_id\":3468483,\"originating_url\":\"https://github.com/trending/developers\",\"user_id\":null}}' data-hydro-click-hmac=\"98cdd9665b4a057f1c0d0ac0001022c8a7cb0b3a21e7bb43c1dba4eeac8c28fc\" data-view-component=\"true\" href=\"/Brooooooklyn\">\n",
       "               Brooooooklyn\n",
       " </a> </p>\n",
       " </div>,\n",
       " <div class=\"col-md-6\">\n",
       " <div class=\"mt-2 mb-3 my-md-0\">\n",
       " <article>\n",
       " <div class=\"f6 color-fg-muted text-uppercase mb-1\"><svg aria-hidden=\"true\" class=\"octicon octicon-flame color-text-orange-light mr-1\" data-view-component=\"true\" height=\"16\" version=\"1.1\" viewbox=\"0 0 16 16\" width=\"16\">\n",
       " <path d=\"M7.998 14.5c2.832 0 5-1.98 5-4.5 0-1.463-.68-2.19-1.879-3.383l-.036-.037c-1.013-1.008-2.3-2.29-2.834-4.434-.322.256-.63.579-.864.953-.432.696-.621 1.58-.046 2.73.473.947.67 2.284-.278 3.232-.61.61-1.545.84-2.403.633a2.788 2.788 0 01-1.436-.874A3.21 3.21 0 003 10c0 2.53 2.164 4.5 4.998 4.5zM9.533.753C9.496.34 9.16.009 8.77.146 7.035.75 4.34 3.187 5.997 6.5c.344.689.285 1.218.003 1.5-.419.419-1.54.487-2.04-.832-.173-.454-.659-.762-1.035-.454C2.036 7.44 1.5 8.702 1.5 10c0 3.512 2.998 6 6.498 6s6.5-2.5 6.5-6c0-2.137-1.128-3.26-2.312-4.438-1.19-1.184-2.436-2.425-2.653-4.81z\" fill-rule=\"evenodd\"></path>\n",
       " </svg>Popular repo</div>\n",
       " <h1 class=\"h4 lh-condensed\">\n",
       " <a class=\"css-truncate css-truncate-target\" data-ga-click=\"Explore, go to repository, location:trending developers\" data-hydro-click='{\"event_type\":\"explore.click\",\"payload\":{\"click_context\":\"TRENDING_DEVELOPERS_PAGE\",\"click_target\":\"REPOSITORY\",\"click_visual_representation\":\"REPOSITORY_NAME_HEADING\",\"actor_id\":null,\"record_id\":422538541,\"originating_url\":\"https://github.com/trending/developers\",\"user_id\":null}}' data-hydro-click-hmac=\"9ca7e407ce91f0a2e97528d3827e7d0dc6d7fcabf69af65ad1354169969f799c\" data-view-component=\"true\" href=\"/Brooooooklyn/blake-hash\" style=\"max-width: 175px;\">\n",
       " <svg aria-hidden=\"true\" class=\"octicon octicon-repo color-icon-secondary mr-1\" data-view-component=\"true\" height=\"16\" version=\"1.1\" viewbox=\"0 0 16 16\" width=\"16\">\n",
       " <path d=\"M2 2.5A2.5 2.5 0 014.5 0h8.75a.75.75 0 01.75.75v12.5a.75.75 0 01-.75.75h-2.5a.75.75 0 110-1.5h1.75v-2h-8a1 1 0 00-.714 1.7.75.75 0 01-1.072 1.05A2.495 2.495 0 012 11.5v-9zm10.5-1V9h-8c-.356 0-.694.074-1 .208V2.5a1 1 0 011-1h8zM5 12.25v3.25a.25.25 0 00.4.2l1.45-1.087a.25.25 0 01.3 0L8.6 15.7a.25.25 0 00.4-.2v-3.25a.25.25 0 00-.25-.25h-3.5a.25.25 0 00-.25.25z\" fill-rule=\"evenodd\"></path>\n",
       " </svg>\n",
       "       blake-hash\n",
       " </a> </h1>\n",
       " <div class=\"f6 color-fg-muted mt-1\">\n",
       "       Rust Blake hash bindings for Node.js.\n",
       "     </div>\n",
       " </article>\n",
       " </div>\n",
       " </div>,\n",
       " <div class=\"col-md-6\">\n",
       " <h1 class=\"h3 lh-condensed\">\n",
       " <a data-hydro-click='{\"event_type\":\"explore.click\",\"payload\":{\"click_context\":\"TRENDING_DEVELOPERS_PAGE\",\"click_target\":\"OWNER\",\"click_visual_representation\":\"TRENDING_DEVELOPER\",\"actor_id\":null,\"record_id\":4838076,\"originating_url\":\"https://github.com/trending/developers\",\"user_id\":null}}' data-hydro-click-hmac=\"0a254b7e8f83b034bf29e469c92114e7cbd884b5e5db36af13b45ecaf5ada51e\" data-view-component=\"true\" href=\"/danilowoz\">\n",
       "             Danilo Woznica\n",
       " </a> </h1>\n",
       " <p class=\"f4 text-normal mb-1\">\n",
       " <a class=\"Link--secondary\" data-hydro-click='{\"event_type\":\"explore.click\",\"payload\":{\"click_context\":\"TRENDING_DEVELOPERS_PAGE\",\"click_target\":\"OWNER\",\"click_visual_representation\":\"TRENDING_DEVELOPER\",\"actor_id\":null,\"record_id\":4838076,\"originating_url\":\"https://github.com/trending/developers\",\"user_id\":null}}' data-hydro-click-hmac=\"0a254b7e8f83b034bf29e469c92114e7cbd884b5e5db36af13b45ecaf5ada51e\" data-view-component=\"true\" href=\"/danilowoz\">\n",
       "               danilowoz\n",
       " </a> </p>\n",
       " </div>,\n",
       " <div class=\"col-md-6\">\n",
       " <div class=\"mt-2 mb-3 my-md-0\">\n",
       " <article>\n",
       " <div class=\"f6 color-fg-muted text-uppercase mb-1\"><svg aria-hidden=\"true\" class=\"octicon octicon-flame color-text-orange-light mr-1\" data-view-component=\"true\" height=\"16\" version=\"1.1\" viewbox=\"0 0 16 16\" width=\"16\">\n",
       " <path d=\"M7.998 14.5c2.832 0 5-1.98 5-4.5 0-1.463-.68-2.19-1.879-3.383l-.036-.037c-1.013-1.008-2.3-2.29-2.834-4.434-.322.256-.63.579-.864.953-.432.696-.621 1.58-.046 2.73.473.947.67 2.284-.278 3.232-.61.61-1.545.84-2.403.633a2.788 2.788 0 01-1.436-.874A3.21 3.21 0 003 10c0 2.53 2.164 4.5 4.998 4.5zM9.533.753C9.496.34 9.16.009 8.77.146 7.035.75 4.34 3.187 5.997 6.5c.344.689.285 1.218.003 1.5-.419.419-1.54.487-2.04-.832-.173-.454-.659-.762-1.035-.454C2.036 7.44 1.5 8.702 1.5 10c0 3.512 2.998 6 6.498 6s6.5-2.5 6.5-6c0-2.137-1.128-3.26-2.312-4.438-1.19-1.184-2.436-2.425-2.653-4.81z\" fill-rule=\"evenodd\"></path>\n",
       " </svg>Popular repo</div>\n",
       " <h1 class=\"h4 lh-condensed\">\n",
       " <a class=\"css-truncate css-truncate-target\" data-ga-click=\"Explore, go to repository, location:trending developers\" data-hydro-click='{\"event_type\":\"explore.click\",\"payload\":{\"click_context\":\"TRENDING_DEVELOPERS_PAGE\",\"click_target\":\"REPOSITORY\",\"click_visual_representation\":\"REPOSITORY_NAME_HEADING\",\"actor_id\":null,\"record_id\":79509385,\"originating_url\":\"https://github.com/trending/developers\",\"user_id\":null}}' data-hydro-click-hmac=\"84abab76d801933305b7ff9ac5760e9d79c14562cf071910165bfa0d9bb030cb\" data-view-component=\"true\" href=\"/danilowoz/react-content-loader\" style=\"max-width: 175px;\">\n",
       " <svg aria-hidden=\"true\" class=\"octicon octicon-repo color-icon-secondary mr-1\" data-view-component=\"true\" height=\"16\" version=\"1.1\" viewbox=\"0 0 16 16\" width=\"16\">\n",
       " <path d=\"M2 2.5A2.5 2.5 0 014.5 0h8.75a.75.75 0 01.75.75v12.5a.75.75 0 01-.75.75h-2.5a.75.75 0 110-1.5h1.75v-2h-8a1 1 0 00-.714 1.7.75.75 0 01-1.072 1.05A2.495 2.495 0 012 11.5v-9zm10.5-1V9h-8c-.356 0-.694.074-1 .208V2.5a1 1 0 011-1h8zM5 12.25v3.25a.25.25 0 00.4.2l1.45-1.087a.25.25 0 01.3 0L8.6 15.7a.25.25 0 00.4-.2v-3.25a.25.25 0 00-.25-.25h-3.5a.25.25 0 00-.25.25z\" fill-rule=\"evenodd\"></path>\n",
       " </svg>\n",
       "       react-content-loader\n",
       " </a> </h1>\n",
       " <div class=\"f6 color-fg-muted mt-1\">\n",
       " <g-emoji alias=\"white_circle\" class=\"g-emoji\" fallback-src=\"https://github.githubassets.com/images/icons/emoji/unicode/26aa.png\">⚪</g-emoji> SVG-Powered component to easily create skeleton loadings.\n",
       "     </div>\n",
       " </article>\n",
       " </div>\n",
       " </div>]"
      ]
     },
     "execution_count": 74,
     "metadata": {},
     "output_type": "execute_result"
    }
   ],
   "source": [
    "bs.find_all('div', attrs={'class':\"col-md-6\"})"
   ]
  },
  {
   "cell_type": "code",
   "execution_count": 75,
   "metadata": {},
   "outputs": [],
   "source": [
    "#your code\n",
    "top_devs = []\n",
    "for i in bs.find_all('div', attrs={'class':\"col-md-6\"}):\n",
    "    try:\n",
    "        name = i.find('h1', attrs= {'class':\"h3 lh-condensed\"}).find('a').text\n",
    "        name = name.replace('\\n',' ')\n",
    "        name = name.replace(' ','')\n",
    "        top_devs.append(name)\n",
    "    except:\n",
    "        pass\n",
    " "
   ]
  },
  {
   "cell_type": "code",
   "execution_count": 76,
   "metadata": {},
   "outputs": [
    {
     "data": {
      "text/plain": [
       "['SethVargo',\n",
       " 'anguscroll',\n",
       " 'AralRocaGomez',\n",
       " '文翼',\n",
       " 'WilliamBoman',\n",
       " 'CalebPorzio',\n",
       " 'AlexeyPyltsyn',\n",
       " 'OlivierHalligon',\n",
       " 'Jurre',\n",
       " 'DanForeman-Mackey',\n",
       " 'SaleemAbdulrasool',\n",
       " 'TanerŞener',\n",
       " 'RicoSuter',\n",
       " 'Juliette',\n",
       " 'JamesMontemagno',\n",
       " 'AndrewKane',\n",
       " 'ConnorTumbleson',\n",
       " 'JordiBoggiano',\n",
       " 'RadekSimko',\n",
       " 'DanielMartí',\n",
       " 'SamSam',\n",
       " 'JohnSundell',\n",
       " 'BenjaminE.Coe',\n",
       " 'LongYinan',\n",
       " 'DaniloWoznica']"
      ]
     },
     "execution_count": 76,
     "metadata": {},
     "output_type": "execute_result"
    }
   ],
   "source": [
    "top_devs"
   ]
  },
  {
   "cell_type": "markdown",
   "metadata": {},
   "source": [
    "#### Display the trending Python repositories in GitHub\n",
    "\n",
    "The steps to solve this problem is similar to the previous one except that you need to find out the repository names instead of developer names."
   ]
  },
  {
   "cell_type": "code",
   "execution_count": 77,
   "metadata": {},
   "outputs": [],
   "source": [
    "# This is the url you will scrape in this exercise\n",
    "url = 'https://github.com/trending/python?since=daily'"
   ]
  },
  {
   "cell_type": "code",
   "execution_count": 84,
   "metadata": {},
   "outputs": [],
   "source": [
    "resp = requests.get(url)"
   ]
  },
  {
   "cell_type": "code",
   "execution_count": 85,
   "metadata": {},
   "outputs": [],
   "source": [
    "bs = BeautifulSoup(resp.content,'html.parser')"
   ]
  },
  {
   "cell_type": "code",
   "execution_count": 100,
   "metadata": {},
   "outputs": [],
   "source": [
    "#your code\n",
    "top_reps = []\n",
    "for i in bs.find_all('h1', attrs={'class':\"h3 lh-condensed\"}):\n",
    "    rep = i.find('a').text\n",
    "    rep = rep.replace('\\n',' ')\n",
    "    rep = rep.replace(' ','')\n",
    "    rep = rep.replace('/','')\n",
    "    top_reps.append(rep)\n",
    "    "
   ]
  },
  {
   "cell_type": "code",
   "execution_count": 101,
   "metadata": {},
   "outputs": [
    {
     "data": {
      "text/plain": [
       "['Python-Worldpython-mini-projects',\n",
       " 'bregman-ariedevops-exercises',\n",
       " 'PyTorchLightningpytorch-lightning',\n",
       " 'huggingfacedatasets',\n",
       " 'jackfruedPython-100-Days',\n",
       " 'swisskyrepoPayloadsAllTheThings',\n",
       " 'nv-legatecunumeric',\n",
       " 'cupycupy',\n",
       " 'facebookresearchdemucs',\n",
       " 'microsoftunilm',\n",
       " 'awsaws-cli',\n",
       " 'pytorchfairseq',\n",
       " 'open-mmlabmmdetection',\n",
       " 'igroman787mytonctrl',\n",
       " 'ifzhangFairMOT',\n",
       " 'apachesuperset',\n",
       " 'GoogleCloudPlatformmicroservices-demo',\n",
       " 'ckanckan',\n",
       " 'tiangolofastapi',\n",
       " 'djangodjango',\n",
       " 'facebookresearchpytorch3d',\n",
       " 'biubug6Pytorch_Retinaface',\n",
       " 'apacheairflow',\n",
       " 'openatxuiautomator2',\n",
       " 'jumpserverjumpserver']"
      ]
     },
     "execution_count": 101,
     "metadata": {},
     "output_type": "execute_result"
    }
   ],
   "source": [
    "top_reps"
   ]
  },
  {
   "cell_type": "markdown",
   "metadata": {},
   "source": [
    "#### Display all the image links from Walt Disney wikipedia page"
   ]
  },
  {
   "cell_type": "code",
   "execution_count": 103,
   "metadata": {},
   "outputs": [],
   "source": [
    "# This is the url you will scrape in this exercise\n",
    "url = 'https://en.wikipedia.org/wiki/Walt_Disney'\n",
    "resp = requests.get(url)\n",
    "bs = BeautifulSoup(resp.content,'html.parser')"
   ]
  },
  {
   "cell_type": "code",
   "execution_count": 113,
   "metadata": {},
   "outputs": [
    {
     "data": {
      "text/plain": [
       "['upload.wikimedia.org/wikipedia/en/thumb/e/e7/Cscr-featured.svg/20px-Cscr-featured.svg.png',\n",
       " 'upload.wikimedia.org/wikipedia/en/thumb/8/8c/Extended-protection-shackle.svg/20px-Extended-protection-shackle.svg.png',\n",
       " 'upload.wikimedia.org/wikipedia/commons/thumb/d/df/Walt_Disney_1946.JPG/220px-Walt_Disney_1946.JPG',\n",
       " 'upload.wikimedia.org/wikipedia/commons/thumb/8/87/Walt_Disney_1942_signature.svg/150px-Walt_Disney_1942_signature.svg.png',\n",
       " 'upload.wikimedia.org/wikipedia/commons/thumb/c/c4/Walt_Disney_envelope_ca._1921.jpg/220px-Walt_Disney_envelope_ca._1921.jpg',\n",
       " 'upload.wikimedia.org/wikipedia/commons/thumb/4/4d/Newman_Laugh-O-Gram_%281921%29.webm/220px-seek%3D2-Newman_Laugh-O-Gram_%281921%29.webm.jpg',\n",
       " 'upload.wikimedia.org/wikipedia/commons/thumb/0/0d/Trolley_Troubles_poster.jpg/170px-Trolley_Troubles_poster.jpg',\n",
       " 'upload.wikimedia.org/wikipedia/en/thumb/4/4e/Steamboat-willie.jpg/170px-Steamboat-willie.jpg',\n",
       " 'upload.wikimedia.org/wikipedia/commons/thumb/5/57/Walt_Disney_1935.jpg/170px-Walt_Disney_1935.jpg',\n",
       " 'upload.wikimedia.org/wikipedia/commons/thumb/c/cd/Walt_Disney_Snow_white_1937_trailer_screenshot_%2813%29.jpg/220px-Walt_Disney_Snow_white_1937_trailer_screenshot_%2813%29.jpg',\n",
       " 'upload.wikimedia.org/wikipedia/commons/thumb/1/15/Disney_drawing_goofy.jpg/170px-Disney_drawing_goofy.jpg',\n",
       " 'upload.wikimedia.org/wikipedia/commons/thumb/1/13/DisneySchiphol1951.jpg/220px-DisneySchiphol1951.jpg',\n",
       " 'upload.wikimedia.org/wikipedia/commons/thumb/8/8c/WaltDisneyplansDisneylandDec1954.jpg/220px-WaltDisneyplansDisneylandDec1954.jpg',\n",
       " 'upload.wikimedia.org/wikipedia/commons/thumb/f/ff/Walt_disney_portrait_right.jpg/170px-Walt_disney_portrait_right.jpg',\n",
       " 'upload.wikimedia.org/wikipedia/commons/thumb/1/1a/Walt_Disney_Grave.JPG/170px-Walt_Disney_Grave.JPG',\n",
       " 'upload.wikimedia.org/wikipedia/commons/thumb/2/2d/Roy_O._Disney_with_Company_at_Press_Conference.jpg/170px-Roy_O._Disney_with_Company_at_Press_Conference.jpg',\n",
       " 'upload.wikimedia.org/wikipedia/commons/thumb/a/a9/Disney_Display_Case.JPG/170px-Disney_Display_Case.JPG',\n",
       " 'upload.wikimedia.org/wikipedia/commons/thumb/6/6c/Disney1968.jpg/170px-Disney1968.jpg',\n",
       " 'upload.wikimedia.org/wikipedia/en/thumb/8/8a/OOjs_UI_icon_edit-ltr-progressive.svg/10px-OOjs_UI_icon_edit-ltr-progressive.svg.png',\n",
       " 'upload.wikimedia.org/wikipedia/commons/thumb/e/e3/Disneyland_Resort_logo.svg/135px-Disneyland_Resort_logo.svg.png',\n",
       " 'upload.wikimedia.org/wikipedia/commons/thumb/d/da/Animation_disc.svg/30px-Animation_disc.svg.png',\n",
       " 'upload.wikimedia.org/wikipedia/en/thumb/6/69/P_vip.svg/29px-P_vip.svg.png',\n",
       " 'upload.wikimedia.org/wikipedia/commons/thumb/1/1a/Magic_Kingdom_castle.jpg/24px-Magic_Kingdom_castle.jpg',\n",
       " 'upload.wikimedia.org/wikipedia/en/thumb/e/e7/Video-x-generic.svg/30px-Video-x-generic.svg.png',\n",
       " 'upload.wikimedia.org/wikipedia/commons/thumb/a/a3/Flag_of_Los_Angeles_County%2C_California.svg/30px-Flag_of_Los_Angeles_County%2C_California.svg.png',\n",
       " 'upload.wikimedia.org/wikipedia/commons/thumb/8/8c/Blank_television_set.svg/30px-Blank_television_set.svg.png',\n",
       " 'upload.wikimedia.org/wikipedia/en/thumb/a/a4/Flag_of_the_United_States.svg/30px-Flag_of_the_United_States.svg.png',\n",
       " 'upload.wikimedia.org/wikipedia/en/thumb/4/4a/Commons-logo.svg/22px-Commons-logo.svg.png',\n",
       " 'upload.wikimedia.org/wikipedia/commons/thumb/f/fa/Wikiquote-logo.svg/25px-Wikiquote-logo.svg.png',\n",
       " 'upload.wikimedia.org/wikipedia/commons/thumb/f/ff/Wikidata-logo.svg/30px-Wikidata-logo.svg.png',\n",
       " 'upload.wikimedia.org/wikipedia/en/thumb/8/8a/OOjs_UI_icon_edit-ltr-progressive.svg/10px-OOjs_UI_icon_edit-ltr-progressive.svg.png',\n",
       " 'en.wikipedia.org/wiki/Special:CentralAutoLogin/start?type=1x1',\n",
       " 'tatic/images/footer/wikimedia-button.png',\n",
       " 'tatic/images/footer/poweredby_mediawiki_88x31.png']"
      ]
     },
     "execution_count": 113,
     "metadata": {},
     "output_type": "execute_result"
    }
   ],
   "source": [
    "#your code\n",
    "disney_imgs = []\n",
    "for i in bs.find_all('img'):\n",
    "    disney_imgs.append(i.get('src')[2:])\n",
    "\n",
    "disney_imgs"
   ]
  },
  {
   "cell_type": "markdown",
   "metadata": {},
   "source": [
    "#### Retrieve an arbitary Wikipedia page of \"Python\" and create a list of links on that page"
   ]
  },
  {
   "cell_type": "code",
   "execution_count": 114,
   "metadata": {},
   "outputs": [],
   "source": [
    "# This is the url you will scrape in this exercise\n",
    "url ='https://en.wikipedia.org/wiki/Python' "
   ]
  },
  {
   "cell_type": "code",
   "execution_count": 115,
   "metadata": {},
   "outputs": [],
   "source": [
    "#your code\n",
    "bs = BeautifulSoup(resp.content,'html.parser')"
   ]
  },
  {
   "cell_type": "code",
   "execution_count": 149,
   "metadata": {},
   "outputs": [
    {
     "data": {
      "text/plain": [
       "['https://www.imdb.com/name/nm0000370/',\n",
       " 'https://commons.wikimedia.org/wiki/Special:Search/Walt_Disney',\n",
       " 'https://d-nb.info/gnd/118526006',\n",
       " 'https://isni.org/isni/0000000121280724',\n",
       " 'https://viaf.org/viaf/36927108',\n",
       " 'https://authority.bibsys.no/authority/rest/authorities/html/90057066',\n",
       " 'http://uli.nli.org.il/F/?func=direct&doc_number=000613979&local_base=nlx10',\n",
       " 'http://data.bibliotheken.nl/id/thes/p068474202',\n",
       " 'https://www.aucklandartgallery.com/explore-art-and-ideas/artist/305/',\n",
       " 'https://pic.nypl.org/constituents/308398',\n",
       " 'https://ci.nii.ac.jp/author/DA09601826?l=en',\n",
       " 'http://id.worldcat.org/fast/29141/',\n",
       " 'https://opac.rism.info/search?id=pe382888',\n",
       " 'http://data.rero.ch/02-A012267799',\n",
       " 'https://www.idref.fr/028028945',\n",
       " 'https://trove.nla.gov.au/people/808425',\n",
       " 'https://commons.wikimedia.org/wiki/Walt_Disney',\n",
       " 'https://kbd.wikipedia.org/wiki/%D0%A3%D0%BE%D0%BB%D1%82_%D0%94%D0%B8%D1%81%D0%BD%D0%B5%D0%B9',\n",
       " 'https://foundation.wikimedia.org/wiki/Privacy_policy',\n",
       " 'https://wikimediafoundation.org/']"
      ]
     },
     "execution_count": 149,
     "metadata": {},
     "output_type": "execute_result"
    }
   ],
   "source": [
    "list_url = []\n",
    "for i in bs.find_all('ul'):\n",
    "    try:\n",
    "        z = i.find('li').find('a').get('href')\n",
    "        if z.startswith('http'):\n",
    "            list_url.append(z)        \n",
    "    except:\n",
    "        pass\n",
    "        \n",
    "list_url    "
   ]
  },
  {
   "cell_type": "markdown",
   "metadata": {},
   "source": [
    "#### Number of Titles that have changed in the United States Code since its last release point "
   ]
  },
  {
   "cell_type": "code",
   "execution_count": 13,
   "metadata": {},
   "outputs": [],
   "source": [
    "# This is the url you will scrape in this exercise\n",
    "url = 'http://uscode.house.gov/download/download.shtml'"
   ]
  },
  {
   "cell_type": "code",
   "execution_count": 14,
   "metadata": {},
   "outputs": [],
   "source": [
    "#your code"
   ]
  },
  {
   "cell_type": "markdown",
   "metadata": {},
   "source": [
    "#### A Python list with the top ten FBI's Most Wanted names "
   ]
  },
  {
   "cell_type": "code",
   "execution_count": 15,
   "metadata": {},
   "outputs": [],
   "source": [
    "# This is the url you will scrape in this exercise\n",
    "url = 'https://www.fbi.gov/wanted/topten'"
   ]
  },
  {
   "cell_type": "code",
   "execution_count": 16,
   "metadata": {},
   "outputs": [],
   "source": [
    "#your code "
   ]
  },
  {
   "cell_type": "markdown",
   "metadata": {},
   "source": [
    "####  20 latest earthquakes info (date, time, latitude, longitude and region name) by the EMSC as a pandas dataframe"
   ]
  },
  {
   "cell_type": "code",
   "execution_count": 17,
   "metadata": {},
   "outputs": [],
   "source": [
    "# This is the url you will scrape in this exercise\n",
    "url = 'https://www.emsc-csem.org/Earthquake/'"
   ]
  },
  {
   "cell_type": "code",
   "execution_count": 18,
   "metadata": {},
   "outputs": [],
   "source": [
    "#your code"
   ]
  },
  {
   "cell_type": "markdown",
   "metadata": {},
   "source": [
    "#### Count number of tweets by a given Twitter account."
   ]
  },
  {
   "cell_type": "markdown",
   "metadata": {},
   "source": [
    "You will need to include a ***try/except block*** for account names not found. \n",
    "<br>***Hint:*** the program should count the number of tweets for any provided account"
   ]
  },
  {
   "cell_type": "code",
   "execution_count": 19,
   "metadata": {},
   "outputs": [],
   "source": [
    "# This is the url you will scrape in this exercise \n",
    "# You will need to add the account credentials to this url\n",
    "url = 'https://twitter.com/'"
   ]
  },
  {
   "cell_type": "code",
   "execution_count": 20,
   "metadata": {},
   "outputs": [],
   "source": [
    "#your code"
   ]
  },
  {
   "cell_type": "markdown",
   "metadata": {},
   "source": [
    "#### Number of followers of a given twitter account"
   ]
  },
  {
   "cell_type": "markdown",
   "metadata": {},
   "source": [
    "You will need to include a ***try/except block*** in case account/s name not found. \n",
    "<br>***Hint:*** the program should count the followers for any provided account"
   ]
  },
  {
   "cell_type": "code",
   "execution_count": 21,
   "metadata": {},
   "outputs": [],
   "source": [
    "# This is the url you will scrape in this exercise \n",
    "# You will need to add the account credentials to this url\n",
    "url = 'https://twitter.com/'"
   ]
  },
  {
   "cell_type": "code",
   "execution_count": 22,
   "metadata": {},
   "outputs": [],
   "source": [
    "#your code"
   ]
  },
  {
   "cell_type": "markdown",
   "metadata": {},
   "source": [
    "#### List all language names and number of related articles in the order they appear in wikipedia.org"
   ]
  },
  {
   "cell_type": "code",
   "execution_count": 23,
   "metadata": {},
   "outputs": [],
   "source": [
    "# This is the url you will scrape in this exercise\n",
    "url = 'https://www.wikipedia.org/'"
   ]
  },
  {
   "cell_type": "code",
   "execution_count": 24,
   "metadata": {},
   "outputs": [],
   "source": [
    "#your code"
   ]
  },
  {
   "cell_type": "markdown",
   "metadata": {},
   "source": [
    "#### A list with the different kind of datasets available in data.gov.uk "
   ]
  },
  {
   "cell_type": "code",
   "execution_count": 25,
   "metadata": {},
   "outputs": [],
   "source": [
    "# This is the url you will scrape in this exercise\n",
    "url = 'https://data.gov.uk/'"
   ]
  },
  {
   "cell_type": "code",
   "execution_count": 26,
   "metadata": {},
   "outputs": [],
   "source": [
    "#your code "
   ]
  },
  {
   "cell_type": "markdown",
   "metadata": {},
   "source": [
    "#### Top 10 languages by number of native speakers stored in a Pandas Dataframe"
   ]
  },
  {
   "cell_type": "code",
   "execution_count": 27,
   "metadata": {},
   "outputs": [],
   "source": [
    "# This is the url you will scrape in this exercise\n",
    "url = 'https://en.wikipedia.org/wiki/List_of_languages_by_number_of_native_speakers'"
   ]
  },
  {
   "cell_type": "code",
   "execution_count": 28,
   "metadata": {},
   "outputs": [],
   "source": [
    "#your code"
   ]
  },
  {
   "cell_type": "markdown",
   "metadata": {},
   "source": [
    "### BONUS QUESTIONS"
   ]
  },
  {
   "cell_type": "markdown",
   "metadata": {},
   "source": [
    "#### Scrape a certain number of tweets of a given Twitter account."
   ]
  },
  {
   "cell_type": "code",
   "execution_count": 29,
   "metadata": {},
   "outputs": [],
   "source": [
    "# This is the url you will scrape in this exercise \n",
    "# You will need to add the account credentials to this url\n",
    "url = 'https://twitter.com/'"
   ]
  },
  {
   "cell_type": "code",
   "execution_count": 30,
   "metadata": {},
   "outputs": [],
   "source": [
    "# your code"
   ]
  },
  {
   "cell_type": "markdown",
   "metadata": {},
   "source": [
    "#### IMDB's Top 250 data (movie name, Initial release, director name and stars) as a pandas dataframe"
   ]
  },
  {
   "cell_type": "code",
   "execution_count": 31,
   "metadata": {},
   "outputs": [],
   "source": [
    "# This is the url you will scrape in this exercise \n",
    "url = 'https://www.imdb.com/chart/top'"
   ]
  },
  {
   "cell_type": "code",
   "execution_count": 32,
   "metadata": {},
   "outputs": [],
   "source": [
    "# your code"
   ]
  },
  {
   "cell_type": "markdown",
   "metadata": {},
   "source": [
    "#### Movie name, year and a brief summary of the top 10 random movies (IMDB) as a pandas dataframe."
   ]
  },
  {
   "cell_type": "code",
   "execution_count": 33,
   "metadata": {},
   "outputs": [],
   "source": [
    "#This is the url you will scrape in this exercise\n",
    "url = 'http://www.imdb.com/chart/top'"
   ]
  },
  {
   "cell_type": "code",
   "execution_count": 34,
   "metadata": {},
   "outputs": [],
   "source": [
    "#your code"
   ]
  },
  {
   "cell_type": "markdown",
   "metadata": {},
   "source": [
    "#### Find the live weather report (temperature, wind speed, description and weather) of a given city."
   ]
  },
  {
   "cell_type": "code",
   "execution_count": 35,
   "metadata": {},
   "outputs": [
    {
     "name": "stdout",
     "output_type": "stream",
     "text": [
      "Enter the city:sabadell\n"
     ]
    }
   ],
   "source": [
    "#https://openweathermap.org/current\n",
    "city = city=input('Enter the city:')\n",
    "url = 'http://api.openweathermap.org/data/2.5/weather?'+'q='+city+'&APPID=b35975e18dc93725acb092f7272cc6b8&units=metric'"
   ]
  },
  {
   "cell_type": "code",
   "execution_count": 36,
   "metadata": {},
   "outputs": [],
   "source": [
    "# your code"
   ]
  },
  {
   "cell_type": "markdown",
   "metadata": {},
   "source": [
    "#### Book name,price and stock availability as a pandas dataframe."
   ]
  },
  {
   "cell_type": "code",
   "execution_count": 37,
   "metadata": {},
   "outputs": [],
   "source": [
    "# This is the url you will scrape in this exercise. \n",
    "# It is a fictional bookstore created to be scraped. \n",
    "url = 'http://books.toscrape.com/'"
   ]
  },
  {
   "cell_type": "code",
   "execution_count": 38,
   "metadata": {},
   "outputs": [],
   "source": [
    "#your code"
   ]
  }
 ],
 "metadata": {
  "kernelspec": {
   "display_name": "Python 3 (ipykernel)",
   "language": "python",
   "name": "python3"
  },
  "language_info": {
   "codemirror_mode": {
    "name": "ipython",
    "version": 3
   },
   "file_extension": ".py",
   "mimetype": "text/x-python",
   "name": "python",
   "nbconvert_exporter": "python",
   "pygments_lexer": "ipython3",
   "version": "3.9.7"
  }
 },
 "nbformat": 4,
 "nbformat_minor": 2
}
